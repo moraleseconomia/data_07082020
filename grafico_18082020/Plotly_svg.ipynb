{
 "cells": [
  {
   "cell_type": "code",
   "execution_count": 1,
   "metadata": {
    "colab": {},
    "colab_type": "code",
    "id": "_XaNDPG_2amB"
   },
   "outputs": [],
   "source": [
    "#######################################################################\n",
    "# Gráfica para convertir en SVG                                       #\n",
    "#######################################################################"
   ]
  },
  {
   "cell_type": "markdown",
   "metadata": {
    "colab_type": "text",
    "id": "iUkXZbVMNdFM"
   },
   "source": [
    "# Recursos del Fondo de Garantía de Depósitos FOGADE"
   ]
  },
  {
   "cell_type": "code",
   "execution_count": 4,
   "metadata": {
    "colab": {},
    "colab_type": "code",
    "id": "nq7bt3RZHUkk"
   },
   "outputs": [],
   "source": [
    "from plotly.offline import plot\n",
    "import plotly.graph_objs as go"
   ]
  },
  {
   "cell_type": "code",
   "execution_count": 5,
   "metadata": {
    "colab": {
     "base_uri": "https://localhost:8080/",
     "height": 36
    },
    "colab_type": "code",
    "id": "S0OYkhi8Hb_H",
    "outputId": "ef5b73da-512e-4224-aea5-82e40470546e"
   },
   "outputs": [
    {
     "data": {
      "application/vnd.plotly.v1+json": {
       "config": {
        "plotlyServerURL": "https://plot.ly"
       },
       "data": [
        {
         "marker": {
          "color": [
           2,
           3,
           4,
           5,
           6,
           7,
           8,
           9,
           10,
           11,
           12,
           13,
           14
          ],
          "colorscale": [
           [
            0,
            "rgb(196, 230, 195)"
           ],
           [
            0.16666666666666666,
            "rgb(150, 210, 164)"
           ],
           [
            0.3333333333333333,
            "rgb(109, 188, 144)"
           ],
           [
            0.5,
            "rgb(77, 162, 132)"
           ],
           [
            0.6666666666666666,
            "rgb(54, 135, 122)"
           ],
           [
            0.8333333333333334,
            "rgb(38, 107, 110)"
           ],
           [
            1,
            "rgb(29, 79, 96)"
           ]
          ]
         },
         "text": [
          "119.3",
          "129.3",
          "139.8",
          "152.1",
          "165.8",
          "181.7",
          "198.5",
          "201.5",
          "203.9",
          "204.6"
         ],
         "textposition": "auto",
         "type": "bar",
         "x": [
          "2013",
          "2014",
          "2015",
          "2016",
          "2017",
          "2018",
          "2019",
          "Mar-20",
          "Jun-20",
          "Jul-20"
         ],
         "y": [
          119.3,
          129.3,
          139.8,
          152.1,
          165.8,
          181.7,
          198.5,
          201.5,
          203.9,
          204.6
         ]
        }
       ],
       "layout": {
        "annotations": [
         {
          "showarrow": false,
          "text": "Fuente: FOGADE",
          "x": 0.5,
          "xref": "paper",
          "y": -0.15,
          "yref": "paper"
         }
        ],
        "autosize": false,
        "barmode": "stack",
        "font": {
         "color": "#000000",
         "family": "Courier New, monospace",
         "size": 18
        },
        "height": 600,
        "paper_bgcolor": "rgb(206, 220, 227)",
        "plot_bgcolor": "rgb(206, 220, 227)",
        "template": {
         "data": {
          "bar": [
           {
            "error_x": {
             "color": "#2a3f5f"
            },
            "error_y": {
             "color": "#2a3f5f"
            },
            "marker": {
             "line": {
              "color": "#E5ECF6",
              "width": 0.5
             }
            },
            "type": "bar"
           }
          ],
          "barpolar": [
           {
            "marker": {
             "line": {
              "color": "#E5ECF6",
              "width": 0.5
             }
            },
            "type": "barpolar"
           }
          ],
          "carpet": [
           {
            "aaxis": {
             "endlinecolor": "#2a3f5f",
             "gridcolor": "white",
             "linecolor": "white",
             "minorgridcolor": "white",
             "startlinecolor": "#2a3f5f"
            },
            "baxis": {
             "endlinecolor": "#2a3f5f",
             "gridcolor": "white",
             "linecolor": "white",
             "minorgridcolor": "white",
             "startlinecolor": "#2a3f5f"
            },
            "type": "carpet"
           }
          ],
          "choropleth": [
           {
            "colorbar": {
             "outlinewidth": 0,
             "ticks": ""
            },
            "type": "choropleth"
           }
          ],
          "contour": [
           {
            "colorbar": {
             "outlinewidth": 0,
             "ticks": ""
            },
            "colorscale": [
             [
              0,
              "#0d0887"
             ],
             [
              0.1111111111111111,
              "#46039f"
             ],
             [
              0.2222222222222222,
              "#7201a8"
             ],
             [
              0.3333333333333333,
              "#9c179e"
             ],
             [
              0.4444444444444444,
              "#bd3786"
             ],
             [
              0.5555555555555556,
              "#d8576b"
             ],
             [
              0.6666666666666666,
              "#ed7953"
             ],
             [
              0.7777777777777778,
              "#fb9f3a"
             ],
             [
              0.8888888888888888,
              "#fdca26"
             ],
             [
              1,
              "#f0f921"
             ]
            ],
            "type": "contour"
           }
          ],
          "contourcarpet": [
           {
            "colorbar": {
             "outlinewidth": 0,
             "ticks": ""
            },
            "type": "contourcarpet"
           }
          ],
          "heatmap": [
           {
            "colorbar": {
             "outlinewidth": 0,
             "ticks": ""
            },
            "colorscale": [
             [
              0,
              "#0d0887"
             ],
             [
              0.1111111111111111,
              "#46039f"
             ],
             [
              0.2222222222222222,
              "#7201a8"
             ],
             [
              0.3333333333333333,
              "#9c179e"
             ],
             [
              0.4444444444444444,
              "#bd3786"
             ],
             [
              0.5555555555555556,
              "#d8576b"
             ],
             [
              0.6666666666666666,
              "#ed7953"
             ],
             [
              0.7777777777777778,
              "#fb9f3a"
             ],
             [
              0.8888888888888888,
              "#fdca26"
             ],
             [
              1,
              "#f0f921"
             ]
            ],
            "type": "heatmap"
           }
          ],
          "heatmapgl": [
           {
            "colorbar": {
             "outlinewidth": 0,
             "ticks": ""
            },
            "colorscale": [
             [
              0,
              "#0d0887"
             ],
             [
              0.1111111111111111,
              "#46039f"
             ],
             [
              0.2222222222222222,
              "#7201a8"
             ],
             [
              0.3333333333333333,
              "#9c179e"
             ],
             [
              0.4444444444444444,
              "#bd3786"
             ],
             [
              0.5555555555555556,
              "#d8576b"
             ],
             [
              0.6666666666666666,
              "#ed7953"
             ],
             [
              0.7777777777777778,
              "#fb9f3a"
             ],
             [
              0.8888888888888888,
              "#fdca26"
             ],
             [
              1,
              "#f0f921"
             ]
            ],
            "type": "heatmapgl"
           }
          ],
          "histogram": [
           {
            "marker": {
             "colorbar": {
              "outlinewidth": 0,
              "ticks": ""
             }
            },
            "type": "histogram"
           }
          ],
          "histogram2d": [
           {
            "colorbar": {
             "outlinewidth": 0,
             "ticks": ""
            },
            "colorscale": [
             [
              0,
              "#0d0887"
             ],
             [
              0.1111111111111111,
              "#46039f"
             ],
             [
              0.2222222222222222,
              "#7201a8"
             ],
             [
              0.3333333333333333,
              "#9c179e"
             ],
             [
              0.4444444444444444,
              "#bd3786"
             ],
             [
              0.5555555555555556,
              "#d8576b"
             ],
             [
              0.6666666666666666,
              "#ed7953"
             ],
             [
              0.7777777777777778,
              "#fb9f3a"
             ],
             [
              0.8888888888888888,
              "#fdca26"
             ],
             [
              1,
              "#f0f921"
             ]
            ],
            "type": "histogram2d"
           }
          ],
          "histogram2dcontour": [
           {
            "colorbar": {
             "outlinewidth": 0,
             "ticks": ""
            },
            "colorscale": [
             [
              0,
              "#0d0887"
             ],
             [
              0.1111111111111111,
              "#46039f"
             ],
             [
              0.2222222222222222,
              "#7201a8"
             ],
             [
              0.3333333333333333,
              "#9c179e"
             ],
             [
              0.4444444444444444,
              "#bd3786"
             ],
             [
              0.5555555555555556,
              "#d8576b"
             ],
             [
              0.6666666666666666,
              "#ed7953"
             ],
             [
              0.7777777777777778,
              "#fb9f3a"
             ],
             [
              0.8888888888888888,
              "#fdca26"
             ],
             [
              1,
              "#f0f921"
             ]
            ],
            "type": "histogram2dcontour"
           }
          ],
          "mesh3d": [
           {
            "colorbar": {
             "outlinewidth": 0,
             "ticks": ""
            },
            "type": "mesh3d"
           }
          ],
          "parcoords": [
           {
            "line": {
             "colorbar": {
              "outlinewidth": 0,
              "ticks": ""
             }
            },
            "type": "parcoords"
           }
          ],
          "pie": [
           {
            "automargin": true,
            "type": "pie"
           }
          ],
          "scatter": [
           {
            "marker": {
             "colorbar": {
              "outlinewidth": 0,
              "ticks": ""
             }
            },
            "type": "scatter"
           }
          ],
          "scatter3d": [
           {
            "line": {
             "colorbar": {
              "outlinewidth": 0,
              "ticks": ""
             }
            },
            "marker": {
             "colorbar": {
              "outlinewidth": 0,
              "ticks": ""
             }
            },
            "type": "scatter3d"
           }
          ],
          "scattercarpet": [
           {
            "marker": {
             "colorbar": {
              "outlinewidth": 0,
              "ticks": ""
             }
            },
            "type": "scattercarpet"
           }
          ],
          "scattergeo": [
           {
            "marker": {
             "colorbar": {
              "outlinewidth": 0,
              "ticks": ""
             }
            },
            "type": "scattergeo"
           }
          ],
          "scattergl": [
           {
            "marker": {
             "colorbar": {
              "outlinewidth": 0,
              "ticks": ""
             }
            },
            "type": "scattergl"
           }
          ],
          "scattermapbox": [
           {
            "marker": {
             "colorbar": {
              "outlinewidth": 0,
              "ticks": ""
             }
            },
            "type": "scattermapbox"
           }
          ],
          "scatterpolar": [
           {
            "marker": {
             "colorbar": {
              "outlinewidth": 0,
              "ticks": ""
             }
            },
            "type": "scatterpolar"
           }
          ],
          "scatterpolargl": [
           {
            "marker": {
             "colorbar": {
              "outlinewidth": 0,
              "ticks": ""
             }
            },
            "type": "scatterpolargl"
           }
          ],
          "scatterternary": [
           {
            "marker": {
             "colorbar": {
              "outlinewidth": 0,
              "ticks": ""
             }
            },
            "type": "scatterternary"
           }
          ],
          "surface": [
           {
            "colorbar": {
             "outlinewidth": 0,
             "ticks": ""
            },
            "colorscale": [
             [
              0,
              "#0d0887"
             ],
             [
              0.1111111111111111,
              "#46039f"
             ],
             [
              0.2222222222222222,
              "#7201a8"
             ],
             [
              0.3333333333333333,
              "#9c179e"
             ],
             [
              0.4444444444444444,
              "#bd3786"
             ],
             [
              0.5555555555555556,
              "#d8576b"
             ],
             [
              0.6666666666666666,
              "#ed7953"
             ],
             [
              0.7777777777777778,
              "#fb9f3a"
             ],
             [
              0.8888888888888888,
              "#fdca26"
             ],
             [
              1,
              "#f0f921"
             ]
            ],
            "type": "surface"
           }
          ],
          "table": [
           {
            "cells": {
             "fill": {
              "color": "#EBF0F8"
             },
             "line": {
              "color": "white"
             }
            },
            "header": {
             "fill": {
              "color": "#C8D4E3"
             },
             "line": {
              "color": "white"
             }
            },
            "type": "table"
           }
          ]
         },
         "layout": {
          "annotationdefaults": {
           "arrowcolor": "#2a3f5f",
           "arrowhead": 0,
           "arrowwidth": 1
          },
          "coloraxis": {
           "colorbar": {
            "outlinewidth": 0,
            "ticks": ""
           }
          },
          "colorscale": {
           "diverging": [
            [
             0,
             "#8e0152"
            ],
            [
             0.1,
             "#c51b7d"
            ],
            [
             0.2,
             "#de77ae"
            ],
            [
             0.3,
             "#f1b6da"
            ],
            [
             0.4,
             "#fde0ef"
            ],
            [
             0.5,
             "#f7f7f7"
            ],
            [
             0.6,
             "#e6f5d0"
            ],
            [
             0.7,
             "#b8e186"
            ],
            [
             0.8,
             "#7fbc41"
            ],
            [
             0.9,
             "#4d9221"
            ],
            [
             1,
             "#276419"
            ]
           ],
           "sequential": [
            [
             0,
             "#0d0887"
            ],
            [
             0.1111111111111111,
             "#46039f"
            ],
            [
             0.2222222222222222,
             "#7201a8"
            ],
            [
             0.3333333333333333,
             "#9c179e"
            ],
            [
             0.4444444444444444,
             "#bd3786"
            ],
            [
             0.5555555555555556,
             "#d8576b"
            ],
            [
             0.6666666666666666,
             "#ed7953"
            ],
            [
             0.7777777777777778,
             "#fb9f3a"
            ],
            [
             0.8888888888888888,
             "#fdca26"
            ],
            [
             1,
             "#f0f921"
            ]
           ],
           "sequentialminus": [
            [
             0,
             "#0d0887"
            ],
            [
             0.1111111111111111,
             "#46039f"
            ],
            [
             0.2222222222222222,
             "#7201a8"
            ],
            [
             0.3333333333333333,
             "#9c179e"
            ],
            [
             0.4444444444444444,
             "#bd3786"
            ],
            [
             0.5555555555555556,
             "#d8576b"
            ],
            [
             0.6666666666666666,
             "#ed7953"
            ],
            [
             0.7777777777777778,
             "#fb9f3a"
            ],
            [
             0.8888888888888888,
             "#fdca26"
            ],
            [
             1,
             "#f0f921"
            ]
           ]
          },
          "colorway": [
           "#636efa",
           "#EF553B",
           "#00cc96",
           "#ab63fa",
           "#FFA15A",
           "#19d3f3",
           "#FF6692",
           "#B6E880",
           "#FF97FF",
           "#FECB52"
          ],
          "font": {
           "color": "#2a3f5f"
          },
          "geo": {
           "bgcolor": "white",
           "lakecolor": "white",
           "landcolor": "#E5ECF6",
           "showlakes": true,
           "showland": true,
           "subunitcolor": "white"
          },
          "hoverlabel": {
           "align": "left"
          },
          "hovermode": "closest",
          "mapbox": {
           "style": "light"
          },
          "paper_bgcolor": "white",
          "plot_bgcolor": "#E5ECF6",
          "polar": {
           "angularaxis": {
            "gridcolor": "white",
            "linecolor": "white",
            "ticks": ""
           },
           "bgcolor": "#E5ECF6",
           "radialaxis": {
            "gridcolor": "white",
            "linecolor": "white",
            "ticks": ""
           }
          },
          "scene": {
           "xaxis": {
            "backgroundcolor": "#E5ECF6",
            "gridcolor": "white",
            "gridwidth": 2,
            "linecolor": "white",
            "showbackground": true,
            "ticks": "",
            "zerolinecolor": "white"
           },
           "yaxis": {
            "backgroundcolor": "#E5ECF6",
            "gridcolor": "white",
            "gridwidth": 2,
            "linecolor": "white",
            "showbackground": true,
            "ticks": "",
            "zerolinecolor": "white"
           },
           "zaxis": {
            "backgroundcolor": "#E5ECF6",
            "gridcolor": "white",
            "gridwidth": 2,
            "linecolor": "white",
            "showbackground": true,
            "ticks": "",
            "zerolinecolor": "white"
           }
          },
          "shapedefaults": {
           "line": {
            "color": "#2a3f5f"
           }
          },
          "ternary": {
           "aaxis": {
            "gridcolor": "white",
            "linecolor": "white",
            "ticks": ""
           },
           "baxis": {
            "gridcolor": "white",
            "linecolor": "white",
            "ticks": ""
           },
           "bgcolor": "#E5ECF6",
           "caxis": {
            "gridcolor": "white",
            "linecolor": "white",
            "ticks": ""
           }
          },
          "title": {
           "x": 0.05
          },
          "xaxis": {
           "automargin": true,
           "gridcolor": "white",
           "linecolor": "white",
           "ticks": "",
           "title": {
            "standoff": 15
           },
           "zerolinecolor": "white",
           "zerolinewidth": 2
          },
          "yaxis": {
           "automargin": true,
           "gridcolor": "white",
           "linecolor": "white",
           "ticks": "",
           "title": {
            "standoff": 15
           },
           "zerolinecolor": "white",
           "zerolinewidth": 2
          }
         }
        },
        "title": {
         "text": "<b></b><b>Recursos del Fondo de Garantía de Depósitos FOGADE</b><br><i>Saldo en millones de dólares</i>"
        },
        "width": 1200,
        "xaxis": {
         "type": "category"
        }
       }
      },
      "text/html": [
       "<div>\n",
       "        \n",
       "        \n",
       "            <div id=\"ee3ccf51-d824-48dc-990d-df86c75eeb5e\" class=\"plotly-graph-div\" style=\"height:600px; width:1200px;\"></div>\n",
       "            <script type=\"text/javascript\">\n",
       "                require([\"plotly\"], function(Plotly) {\n",
       "                    window.PLOTLYENV=window.PLOTLYENV || {};\n",
       "                    \n",
       "                if (document.getElementById(\"ee3ccf51-d824-48dc-990d-df86c75eeb5e\")) {\n",
       "                    Plotly.newPlot(\n",
       "                        'ee3ccf51-d824-48dc-990d-df86c75eeb5e',\n",
       "                        [{\"marker\": {\"color\": [2, 3, 4, 5, 6, 7, 8, 9, 10, 11, 12, 13, 14], \"colorscale\": [[0.0, \"rgb(196, 230, 195)\"], [0.16666666666666666, \"rgb(150, 210, 164)\"], [0.3333333333333333, \"rgb(109, 188, 144)\"], [0.5, \"rgb(77, 162, 132)\"], [0.6666666666666666, \"rgb(54, 135, 122)\"], [0.8333333333333334, \"rgb(38, 107, 110)\"], [1.0, \"rgb(29, 79, 96)\"]]}, \"text\": [\"119.3\", \"129.3\", \"139.8\", \"152.1\", \"165.8\", \"181.7\", \"198.5\", \"201.5\", \"203.9\", \"204.6\"], \"textposition\": \"auto\", \"type\": \"bar\", \"x\": [\"2013\", \"2014\", \"2015\", \"2016\", \"2017\", \"2018\", \"2019\", \"Mar-20\", \"Jun-20\", \"Jul-20\"], \"y\": [119.3, 129.3, 139.8, 152.1, 165.8, 181.7, 198.5, 201.5, 203.9, 204.6]}],\n",
       "                        {\"annotations\": [{\"showarrow\": false, \"text\": \"Fuente: FOGADE\", \"x\": 0.5, \"xref\": \"paper\", \"y\": -0.15, \"yref\": \"paper\"}], \"autosize\": false, \"barmode\": \"stack\", \"font\": {\"color\": \"#000000\", \"family\": \"Courier New, monospace\", \"size\": 18}, \"height\": 600, \"paper_bgcolor\": \"rgb(206, 220, 227)\", \"plot_bgcolor\": \"rgb(206, 220, 227)\", \"template\": {\"data\": {\"bar\": [{\"error_x\": {\"color\": \"#2a3f5f\"}, \"error_y\": {\"color\": \"#2a3f5f\"}, \"marker\": {\"line\": {\"color\": \"#E5ECF6\", \"width\": 0.5}}, \"type\": \"bar\"}], \"barpolar\": [{\"marker\": {\"line\": {\"color\": \"#E5ECF6\", \"width\": 0.5}}, \"type\": \"barpolar\"}], \"carpet\": [{\"aaxis\": {\"endlinecolor\": \"#2a3f5f\", \"gridcolor\": \"white\", \"linecolor\": \"white\", \"minorgridcolor\": \"white\", \"startlinecolor\": \"#2a3f5f\"}, \"baxis\": {\"endlinecolor\": \"#2a3f5f\", \"gridcolor\": \"white\", \"linecolor\": \"white\", \"minorgridcolor\": \"white\", \"startlinecolor\": \"#2a3f5f\"}, \"type\": \"carpet\"}], \"choropleth\": [{\"colorbar\": {\"outlinewidth\": 0, \"ticks\": \"\"}, \"type\": \"choropleth\"}], \"contour\": [{\"colorbar\": {\"outlinewidth\": 0, \"ticks\": \"\"}, \"colorscale\": [[0.0, \"#0d0887\"], [0.1111111111111111, \"#46039f\"], [0.2222222222222222, \"#7201a8\"], [0.3333333333333333, \"#9c179e\"], [0.4444444444444444, \"#bd3786\"], [0.5555555555555556, \"#d8576b\"], [0.6666666666666666, \"#ed7953\"], [0.7777777777777778, \"#fb9f3a\"], [0.8888888888888888, \"#fdca26\"], [1.0, \"#f0f921\"]], \"type\": \"contour\"}], \"contourcarpet\": [{\"colorbar\": {\"outlinewidth\": 0, \"ticks\": \"\"}, \"type\": \"contourcarpet\"}], \"heatmap\": [{\"colorbar\": {\"outlinewidth\": 0, \"ticks\": \"\"}, \"colorscale\": [[0.0, \"#0d0887\"], [0.1111111111111111, \"#46039f\"], [0.2222222222222222, \"#7201a8\"], [0.3333333333333333, \"#9c179e\"], [0.4444444444444444, \"#bd3786\"], [0.5555555555555556, \"#d8576b\"], [0.6666666666666666, \"#ed7953\"], [0.7777777777777778, \"#fb9f3a\"], [0.8888888888888888, \"#fdca26\"], [1.0, \"#f0f921\"]], \"type\": \"heatmap\"}], \"heatmapgl\": [{\"colorbar\": {\"outlinewidth\": 0, \"ticks\": \"\"}, \"colorscale\": [[0.0, \"#0d0887\"], [0.1111111111111111, \"#46039f\"], [0.2222222222222222, \"#7201a8\"], [0.3333333333333333, \"#9c179e\"], [0.4444444444444444, \"#bd3786\"], [0.5555555555555556, \"#d8576b\"], [0.6666666666666666, \"#ed7953\"], [0.7777777777777778, \"#fb9f3a\"], [0.8888888888888888, \"#fdca26\"], [1.0, \"#f0f921\"]], \"type\": \"heatmapgl\"}], \"histogram\": [{\"marker\": {\"colorbar\": {\"outlinewidth\": 0, \"ticks\": \"\"}}, \"type\": \"histogram\"}], \"histogram2d\": [{\"colorbar\": {\"outlinewidth\": 0, \"ticks\": \"\"}, \"colorscale\": [[0.0, \"#0d0887\"], [0.1111111111111111, \"#46039f\"], [0.2222222222222222, \"#7201a8\"], [0.3333333333333333, \"#9c179e\"], [0.4444444444444444, \"#bd3786\"], [0.5555555555555556, \"#d8576b\"], [0.6666666666666666, \"#ed7953\"], [0.7777777777777778, \"#fb9f3a\"], [0.8888888888888888, \"#fdca26\"], [1.0, \"#f0f921\"]], \"type\": \"histogram2d\"}], \"histogram2dcontour\": [{\"colorbar\": {\"outlinewidth\": 0, \"ticks\": \"\"}, \"colorscale\": [[0.0, \"#0d0887\"], [0.1111111111111111, \"#46039f\"], [0.2222222222222222, \"#7201a8\"], [0.3333333333333333, \"#9c179e\"], [0.4444444444444444, \"#bd3786\"], [0.5555555555555556, \"#d8576b\"], [0.6666666666666666, \"#ed7953\"], [0.7777777777777778, \"#fb9f3a\"], [0.8888888888888888, \"#fdca26\"], [1.0, \"#f0f921\"]], \"type\": \"histogram2dcontour\"}], \"mesh3d\": [{\"colorbar\": {\"outlinewidth\": 0, \"ticks\": \"\"}, \"type\": \"mesh3d\"}], \"parcoords\": [{\"line\": {\"colorbar\": {\"outlinewidth\": 0, \"ticks\": \"\"}}, \"type\": \"parcoords\"}], \"pie\": [{\"automargin\": true, \"type\": \"pie\"}], \"scatter\": [{\"marker\": {\"colorbar\": {\"outlinewidth\": 0, \"ticks\": \"\"}}, \"type\": \"scatter\"}], \"scatter3d\": [{\"line\": {\"colorbar\": {\"outlinewidth\": 0, \"ticks\": \"\"}}, \"marker\": {\"colorbar\": {\"outlinewidth\": 0, \"ticks\": \"\"}}, \"type\": \"scatter3d\"}], \"scattercarpet\": [{\"marker\": {\"colorbar\": {\"outlinewidth\": 0, \"ticks\": \"\"}}, \"type\": \"scattercarpet\"}], \"scattergeo\": [{\"marker\": {\"colorbar\": {\"outlinewidth\": 0, \"ticks\": \"\"}}, \"type\": \"scattergeo\"}], \"scattergl\": [{\"marker\": {\"colorbar\": {\"outlinewidth\": 0, \"ticks\": \"\"}}, \"type\": \"scattergl\"}], \"scattermapbox\": [{\"marker\": {\"colorbar\": {\"outlinewidth\": 0, \"ticks\": \"\"}}, \"type\": \"scattermapbox\"}], \"scatterpolar\": [{\"marker\": {\"colorbar\": {\"outlinewidth\": 0, \"ticks\": \"\"}}, \"type\": \"scatterpolar\"}], \"scatterpolargl\": [{\"marker\": {\"colorbar\": {\"outlinewidth\": 0, \"ticks\": \"\"}}, \"type\": \"scatterpolargl\"}], \"scatterternary\": [{\"marker\": {\"colorbar\": {\"outlinewidth\": 0, \"ticks\": \"\"}}, \"type\": \"scatterternary\"}], \"surface\": [{\"colorbar\": {\"outlinewidth\": 0, \"ticks\": \"\"}, \"colorscale\": [[0.0, \"#0d0887\"], [0.1111111111111111, \"#46039f\"], [0.2222222222222222, \"#7201a8\"], [0.3333333333333333, \"#9c179e\"], [0.4444444444444444, \"#bd3786\"], [0.5555555555555556, \"#d8576b\"], [0.6666666666666666, \"#ed7953\"], [0.7777777777777778, \"#fb9f3a\"], [0.8888888888888888, \"#fdca26\"], [1.0, \"#f0f921\"]], \"type\": \"surface\"}], \"table\": [{\"cells\": {\"fill\": {\"color\": \"#EBF0F8\"}, \"line\": {\"color\": \"white\"}}, \"header\": {\"fill\": {\"color\": \"#C8D4E3\"}, \"line\": {\"color\": \"white\"}}, \"type\": \"table\"}]}, \"layout\": {\"annotationdefaults\": {\"arrowcolor\": \"#2a3f5f\", \"arrowhead\": 0, \"arrowwidth\": 1}, \"coloraxis\": {\"colorbar\": {\"outlinewidth\": 0, \"ticks\": \"\"}}, \"colorscale\": {\"diverging\": [[0, \"#8e0152\"], [0.1, \"#c51b7d\"], [0.2, \"#de77ae\"], [0.3, \"#f1b6da\"], [0.4, \"#fde0ef\"], [0.5, \"#f7f7f7\"], [0.6, \"#e6f5d0\"], [0.7, \"#b8e186\"], [0.8, \"#7fbc41\"], [0.9, \"#4d9221\"], [1, \"#276419\"]], \"sequential\": [[0.0, \"#0d0887\"], [0.1111111111111111, \"#46039f\"], [0.2222222222222222, \"#7201a8\"], [0.3333333333333333, \"#9c179e\"], [0.4444444444444444, \"#bd3786\"], [0.5555555555555556, \"#d8576b\"], [0.6666666666666666, \"#ed7953\"], [0.7777777777777778, \"#fb9f3a\"], [0.8888888888888888, \"#fdca26\"], [1.0, \"#f0f921\"]], \"sequentialminus\": [[0.0, \"#0d0887\"], [0.1111111111111111, \"#46039f\"], [0.2222222222222222, \"#7201a8\"], [0.3333333333333333, \"#9c179e\"], [0.4444444444444444, \"#bd3786\"], [0.5555555555555556, \"#d8576b\"], [0.6666666666666666, \"#ed7953\"], [0.7777777777777778, \"#fb9f3a\"], [0.8888888888888888, \"#fdca26\"], [1.0, \"#f0f921\"]]}, \"colorway\": [\"#636efa\", \"#EF553B\", \"#00cc96\", \"#ab63fa\", \"#FFA15A\", \"#19d3f3\", \"#FF6692\", \"#B6E880\", \"#FF97FF\", \"#FECB52\"], \"font\": {\"color\": \"#2a3f5f\"}, \"geo\": {\"bgcolor\": \"white\", \"lakecolor\": \"white\", \"landcolor\": \"#E5ECF6\", \"showlakes\": true, \"showland\": true, \"subunitcolor\": \"white\"}, \"hoverlabel\": {\"align\": \"left\"}, \"hovermode\": \"closest\", \"mapbox\": {\"style\": \"light\"}, \"paper_bgcolor\": \"white\", \"plot_bgcolor\": \"#E5ECF6\", \"polar\": {\"angularaxis\": {\"gridcolor\": \"white\", \"linecolor\": \"white\", \"ticks\": \"\"}, \"bgcolor\": \"#E5ECF6\", \"radialaxis\": {\"gridcolor\": \"white\", \"linecolor\": \"white\", \"ticks\": \"\"}}, \"scene\": {\"xaxis\": {\"backgroundcolor\": \"#E5ECF6\", \"gridcolor\": \"white\", \"gridwidth\": 2, \"linecolor\": \"white\", \"showbackground\": true, \"ticks\": \"\", \"zerolinecolor\": \"white\"}, \"yaxis\": {\"backgroundcolor\": \"#E5ECF6\", \"gridcolor\": \"white\", \"gridwidth\": 2, \"linecolor\": \"white\", \"showbackground\": true, \"ticks\": \"\", \"zerolinecolor\": \"white\"}, \"zaxis\": {\"backgroundcolor\": \"#E5ECF6\", \"gridcolor\": \"white\", \"gridwidth\": 2, \"linecolor\": \"white\", \"showbackground\": true, \"ticks\": \"\", \"zerolinecolor\": \"white\"}}, \"shapedefaults\": {\"line\": {\"color\": \"#2a3f5f\"}}, \"ternary\": {\"aaxis\": {\"gridcolor\": \"white\", \"linecolor\": \"white\", \"ticks\": \"\"}, \"baxis\": {\"gridcolor\": \"white\", \"linecolor\": \"white\", \"ticks\": \"\"}, \"bgcolor\": \"#E5ECF6\", \"caxis\": {\"gridcolor\": \"white\", \"linecolor\": \"white\", \"ticks\": \"\"}}, \"title\": {\"x\": 0.05}, \"xaxis\": {\"automargin\": true, \"gridcolor\": \"white\", \"linecolor\": \"white\", \"ticks\": \"\", \"title\": {\"standoff\": 15}, \"zerolinecolor\": \"white\", \"zerolinewidth\": 2}, \"yaxis\": {\"automargin\": true, \"gridcolor\": \"white\", \"linecolor\": \"white\", \"ticks\": \"\", \"title\": {\"standoff\": 15}, \"zerolinecolor\": \"white\", \"zerolinewidth\": 2}}}, \"title\": {\"text\": \"<b></b><b>Recursos del Fondo de Garant\\u00eda de Dep\\u00f3sitos FOGADE</b><br><i>Saldo en millones de d\\u00f3lares</i>\"}, \"width\": 1200, \"xaxis\": {\"type\": \"category\"}},\n",
       "                        {\"responsive\": true}\n",
       "                    ).then(function(){\n",
       "                            \n",
       "var gd = document.getElementById('ee3ccf51-d824-48dc-990d-df86c75eeb5e');\n",
       "var x = new MutationObserver(function (mutations, observer) {{\n",
       "        var display = window.getComputedStyle(gd).display;\n",
       "        if (!display || display === 'none') {{\n",
       "            console.log([gd, 'removed!']);\n",
       "            Plotly.purge(gd);\n",
       "            observer.disconnect();\n",
       "        }}\n",
       "}});\n",
       "\n",
       "// Listen for the removal of the full notebook cells\n",
       "var notebookContainer = gd.closest('#notebook-container');\n",
       "if (notebookContainer) {{\n",
       "    x.observe(notebookContainer, {childList: true});\n",
       "}}\n",
       "\n",
       "// Listen for the clearing of the current output cell\n",
       "var outputEl = gd.closest('.output');\n",
       "if (outputEl) {{\n",
       "    x.observe(outputEl, {childList: true});\n",
       "}}\n",
       "\n",
       "                        })\n",
       "                };\n",
       "                });\n",
       "            </script>\n",
       "        </div>"
      ]
     },
     "metadata": {},
     "output_type": "display_data"
    }
   ],
   "source": [
    "x = [\"2013\", \n",
    "           \"2014\", \n",
    "           \"2015\", \n",
    "           \"2016\", \n",
    "           \"2017\", \n",
    "           \"2018\", \n",
    "            \"2019\",\n",
    " #           \"Ene-20\",\n",
    " #           \"Feb-20\",\n",
    "             'Mar-20',\n",
    " #            'Abr-20',\n",
    " #            'May-20',\n",
    "             'Jun-20',\n",
    "             'Jul-20']\n",
    "y = [119.3, \n",
    "             129.3, \n",
    "             139.8, \n",
    "             152.1, \n",
    "             165.8, \n",
    "             181.7, \n",
    "             198.5,\n",
    "#             199.5,\n",
    "#             200.5,\n",
    "             201.5,\n",
    "#             202.3,\n",
    "#             203.1,\n",
    "              203.9,\n",
    "              204.6]\n",
    "fig = go.Figure(data=[go.Bar(\n",
    "            x=x, y=y,\n",
    "            text=y,\n",
    "            textposition='auto',\n",
    "           marker={\"color\": list(range(2,15)), 'colorscale':'blugrn'})])\n",
    "\n",
    "\n",
    "fig.update_layout(barmode='stack', xaxis_type='category',\n",
    "                   title='<b></b><b>Recursos del Fondo de Garantía de Depósitos FOGADE</b><br><i>Saldo en millones de dólares</i>',\n",
    "                  #\"\",\n",
    "                  paper_bgcolor='rgb(206, 220, 227)',\n",
    "                  plot_bgcolor='rgb(206, 220, 227)',\n",
    "                  font=dict(\n",
    "        family=\"Courier New, monospace\",\n",
    "        size=18,\n",
    "        color=\"#000000\"\n",
    "        ),\n",
    "       annotations=[\n",
    "        dict(\n",
    "            x=0.5,\n",
    "            y=-0.15,\n",
    "            showarrow=False,\n",
    "            text=\"Fuente: FOGADE\",\n",
    "            xref=\"paper\",\n",
    "            yref=\"paper\")],\n",
    "\n",
    "            autosize=False,\n",
    "            width=1200,\n",
    "            height=600          \n",
    "    )\n",
    "\n",
    "#plot(fig, auto_open=True)"
   ]
  },
  {
   "cell_type": "code",
   "execution_count": 6,
   "metadata": {
    "colab": {
     "base_uri": "https://localhost:8080/",
     "height": 637
    },
    "colab_type": "code",
    "id": "CEvAj13yYXhV",
    "outputId": "8854f418-f474-41ac-ca38-fd4e54189b37"
   },
   "outputs": [
    {
     "data": {
      "application/vnd.plotly.v1+json": {
       "config": {
        "plotlyServerURL": "https://plot.ly"
       },
       "data": [
        {
         "marker": {
          "color": [
           2,
           3,
           4,
           5,
           6,
           7,
           8,
           9,
           10,
           11,
           12,
           13,
           14
          ],
          "colorscale": [
           [
            0,
            "rgb(196, 230, 195)"
           ],
           [
            0.16666666666666666,
            "rgb(150, 210, 164)"
           ],
           [
            0.3333333333333333,
            "rgb(109, 188, 144)"
           ],
           [
            0.5,
            "rgb(77, 162, 132)"
           ],
           [
            0.6666666666666666,
            "rgb(54, 135, 122)"
           ],
           [
            0.8333333333333334,
            "rgb(38, 107, 110)"
           ],
           [
            1,
            "rgb(29, 79, 96)"
           ]
          ]
         },
         "text": [
          "119.3",
          "129.3",
          "139.8",
          "152.1",
          "165.8",
          "181.7",
          "198.5",
          "201.5",
          "203.9",
          "204.6"
         ],
         "textposition": "auto",
         "type": "bar",
         "x": [
          "2013",
          "2014",
          "2015",
          "2016",
          "2017",
          "2018",
          "2019",
          "Mar-20",
          "Jun-20",
          "Jul-20"
         ],
         "y": [
          119.3,
          129.3,
          139.8,
          152.1,
          165.8,
          181.7,
          198.5,
          201.5,
          203.9,
          204.6
         ]
        }
       ],
       "layout": {
        "annotations": [
         {
          "showarrow": false,
          "text": "Fuente: FOGADE",
          "x": 0.5,
          "xref": "paper",
          "y": -0.15,
          "yref": "paper"
         }
        ],
        "autosize": false,
        "barmode": "stack",
        "font": {
         "color": "#000000",
         "family": "Courier New, monospace",
         "size": 18
        },
        "height": 600,
        "paper_bgcolor": "rgb(206, 220, 227)",
        "plot_bgcolor": "rgb(206, 220, 227)",
        "template": {
         "data": {
          "bar": [
           {
            "error_x": {
             "color": "#2a3f5f"
            },
            "error_y": {
             "color": "#2a3f5f"
            },
            "marker": {
             "line": {
              "color": "#E5ECF6",
              "width": 0.5
             }
            },
            "type": "bar"
           }
          ],
          "barpolar": [
           {
            "marker": {
             "line": {
              "color": "#E5ECF6",
              "width": 0.5
             }
            },
            "type": "barpolar"
           }
          ],
          "carpet": [
           {
            "aaxis": {
             "endlinecolor": "#2a3f5f",
             "gridcolor": "white",
             "linecolor": "white",
             "minorgridcolor": "white",
             "startlinecolor": "#2a3f5f"
            },
            "baxis": {
             "endlinecolor": "#2a3f5f",
             "gridcolor": "white",
             "linecolor": "white",
             "minorgridcolor": "white",
             "startlinecolor": "#2a3f5f"
            },
            "type": "carpet"
           }
          ],
          "choropleth": [
           {
            "colorbar": {
             "outlinewidth": 0,
             "ticks": ""
            },
            "type": "choropleth"
           }
          ],
          "contour": [
           {
            "colorbar": {
             "outlinewidth": 0,
             "ticks": ""
            },
            "colorscale": [
             [
              0,
              "#0d0887"
             ],
             [
              0.1111111111111111,
              "#46039f"
             ],
             [
              0.2222222222222222,
              "#7201a8"
             ],
             [
              0.3333333333333333,
              "#9c179e"
             ],
             [
              0.4444444444444444,
              "#bd3786"
             ],
             [
              0.5555555555555556,
              "#d8576b"
             ],
             [
              0.6666666666666666,
              "#ed7953"
             ],
             [
              0.7777777777777778,
              "#fb9f3a"
             ],
             [
              0.8888888888888888,
              "#fdca26"
             ],
             [
              1,
              "#f0f921"
             ]
            ],
            "type": "contour"
           }
          ],
          "contourcarpet": [
           {
            "colorbar": {
             "outlinewidth": 0,
             "ticks": ""
            },
            "type": "contourcarpet"
           }
          ],
          "heatmap": [
           {
            "colorbar": {
             "outlinewidth": 0,
             "ticks": ""
            },
            "colorscale": [
             [
              0,
              "#0d0887"
             ],
             [
              0.1111111111111111,
              "#46039f"
             ],
             [
              0.2222222222222222,
              "#7201a8"
             ],
             [
              0.3333333333333333,
              "#9c179e"
             ],
             [
              0.4444444444444444,
              "#bd3786"
             ],
             [
              0.5555555555555556,
              "#d8576b"
             ],
             [
              0.6666666666666666,
              "#ed7953"
             ],
             [
              0.7777777777777778,
              "#fb9f3a"
             ],
             [
              0.8888888888888888,
              "#fdca26"
             ],
             [
              1,
              "#f0f921"
             ]
            ],
            "type": "heatmap"
           }
          ],
          "heatmapgl": [
           {
            "colorbar": {
             "outlinewidth": 0,
             "ticks": ""
            },
            "colorscale": [
             [
              0,
              "#0d0887"
             ],
             [
              0.1111111111111111,
              "#46039f"
             ],
             [
              0.2222222222222222,
              "#7201a8"
             ],
             [
              0.3333333333333333,
              "#9c179e"
             ],
             [
              0.4444444444444444,
              "#bd3786"
             ],
             [
              0.5555555555555556,
              "#d8576b"
             ],
             [
              0.6666666666666666,
              "#ed7953"
             ],
             [
              0.7777777777777778,
              "#fb9f3a"
             ],
             [
              0.8888888888888888,
              "#fdca26"
             ],
             [
              1,
              "#f0f921"
             ]
            ],
            "type": "heatmapgl"
           }
          ],
          "histogram": [
           {
            "marker": {
             "colorbar": {
              "outlinewidth": 0,
              "ticks": ""
             }
            },
            "type": "histogram"
           }
          ],
          "histogram2d": [
           {
            "colorbar": {
             "outlinewidth": 0,
             "ticks": ""
            },
            "colorscale": [
             [
              0,
              "#0d0887"
             ],
             [
              0.1111111111111111,
              "#46039f"
             ],
             [
              0.2222222222222222,
              "#7201a8"
             ],
             [
              0.3333333333333333,
              "#9c179e"
             ],
             [
              0.4444444444444444,
              "#bd3786"
             ],
             [
              0.5555555555555556,
              "#d8576b"
             ],
             [
              0.6666666666666666,
              "#ed7953"
             ],
             [
              0.7777777777777778,
              "#fb9f3a"
             ],
             [
              0.8888888888888888,
              "#fdca26"
             ],
             [
              1,
              "#f0f921"
             ]
            ],
            "type": "histogram2d"
           }
          ],
          "histogram2dcontour": [
           {
            "colorbar": {
             "outlinewidth": 0,
             "ticks": ""
            },
            "colorscale": [
             [
              0,
              "#0d0887"
             ],
             [
              0.1111111111111111,
              "#46039f"
             ],
             [
              0.2222222222222222,
              "#7201a8"
             ],
             [
              0.3333333333333333,
              "#9c179e"
             ],
             [
              0.4444444444444444,
              "#bd3786"
             ],
             [
              0.5555555555555556,
              "#d8576b"
             ],
             [
              0.6666666666666666,
              "#ed7953"
             ],
             [
              0.7777777777777778,
              "#fb9f3a"
             ],
             [
              0.8888888888888888,
              "#fdca26"
             ],
             [
              1,
              "#f0f921"
             ]
            ],
            "type": "histogram2dcontour"
           }
          ],
          "mesh3d": [
           {
            "colorbar": {
             "outlinewidth": 0,
             "ticks": ""
            },
            "type": "mesh3d"
           }
          ],
          "parcoords": [
           {
            "line": {
             "colorbar": {
              "outlinewidth": 0,
              "ticks": ""
             }
            },
            "type": "parcoords"
           }
          ],
          "pie": [
           {
            "automargin": true,
            "type": "pie"
           }
          ],
          "scatter": [
           {
            "marker": {
             "colorbar": {
              "outlinewidth": 0,
              "ticks": ""
             }
            },
            "type": "scatter"
           }
          ],
          "scatter3d": [
           {
            "line": {
             "colorbar": {
              "outlinewidth": 0,
              "ticks": ""
             }
            },
            "marker": {
             "colorbar": {
              "outlinewidth": 0,
              "ticks": ""
             }
            },
            "type": "scatter3d"
           }
          ],
          "scattercarpet": [
           {
            "marker": {
             "colorbar": {
              "outlinewidth": 0,
              "ticks": ""
             }
            },
            "type": "scattercarpet"
           }
          ],
          "scattergeo": [
           {
            "marker": {
             "colorbar": {
              "outlinewidth": 0,
              "ticks": ""
             }
            },
            "type": "scattergeo"
           }
          ],
          "scattergl": [
           {
            "marker": {
             "colorbar": {
              "outlinewidth": 0,
              "ticks": ""
             }
            },
            "type": "scattergl"
           }
          ],
          "scattermapbox": [
           {
            "marker": {
             "colorbar": {
              "outlinewidth": 0,
              "ticks": ""
             }
            },
            "type": "scattermapbox"
           }
          ],
          "scatterpolar": [
           {
            "marker": {
             "colorbar": {
              "outlinewidth": 0,
              "ticks": ""
             }
            },
            "type": "scatterpolar"
           }
          ],
          "scatterpolargl": [
           {
            "marker": {
             "colorbar": {
              "outlinewidth": 0,
              "ticks": ""
             }
            },
            "type": "scatterpolargl"
           }
          ],
          "scatterternary": [
           {
            "marker": {
             "colorbar": {
              "outlinewidth": 0,
              "ticks": ""
             }
            },
            "type": "scatterternary"
           }
          ],
          "surface": [
           {
            "colorbar": {
             "outlinewidth": 0,
             "ticks": ""
            },
            "colorscale": [
             [
              0,
              "#0d0887"
             ],
             [
              0.1111111111111111,
              "#46039f"
             ],
             [
              0.2222222222222222,
              "#7201a8"
             ],
             [
              0.3333333333333333,
              "#9c179e"
             ],
             [
              0.4444444444444444,
              "#bd3786"
             ],
             [
              0.5555555555555556,
              "#d8576b"
             ],
             [
              0.6666666666666666,
              "#ed7953"
             ],
             [
              0.7777777777777778,
              "#fb9f3a"
             ],
             [
              0.8888888888888888,
              "#fdca26"
             ],
             [
              1,
              "#f0f921"
             ]
            ],
            "type": "surface"
           }
          ],
          "table": [
           {
            "cells": {
             "fill": {
              "color": "#EBF0F8"
             },
             "line": {
              "color": "white"
             }
            },
            "header": {
             "fill": {
              "color": "#C8D4E3"
             },
             "line": {
              "color": "white"
             }
            },
            "type": "table"
           }
          ]
         },
         "layout": {
          "annotationdefaults": {
           "arrowcolor": "#2a3f5f",
           "arrowhead": 0,
           "arrowwidth": 1
          },
          "coloraxis": {
           "colorbar": {
            "outlinewidth": 0,
            "ticks": ""
           }
          },
          "colorscale": {
           "diverging": [
            [
             0,
             "#8e0152"
            ],
            [
             0.1,
             "#c51b7d"
            ],
            [
             0.2,
             "#de77ae"
            ],
            [
             0.3,
             "#f1b6da"
            ],
            [
             0.4,
             "#fde0ef"
            ],
            [
             0.5,
             "#f7f7f7"
            ],
            [
             0.6,
             "#e6f5d0"
            ],
            [
             0.7,
             "#b8e186"
            ],
            [
             0.8,
             "#7fbc41"
            ],
            [
             0.9,
             "#4d9221"
            ],
            [
             1,
             "#276419"
            ]
           ],
           "sequential": [
            [
             0,
             "#0d0887"
            ],
            [
             0.1111111111111111,
             "#46039f"
            ],
            [
             0.2222222222222222,
             "#7201a8"
            ],
            [
             0.3333333333333333,
             "#9c179e"
            ],
            [
             0.4444444444444444,
             "#bd3786"
            ],
            [
             0.5555555555555556,
             "#d8576b"
            ],
            [
             0.6666666666666666,
             "#ed7953"
            ],
            [
             0.7777777777777778,
             "#fb9f3a"
            ],
            [
             0.8888888888888888,
             "#fdca26"
            ],
            [
             1,
             "#f0f921"
            ]
           ],
           "sequentialminus": [
            [
             0,
             "#0d0887"
            ],
            [
             0.1111111111111111,
             "#46039f"
            ],
            [
             0.2222222222222222,
             "#7201a8"
            ],
            [
             0.3333333333333333,
             "#9c179e"
            ],
            [
             0.4444444444444444,
             "#bd3786"
            ],
            [
             0.5555555555555556,
             "#d8576b"
            ],
            [
             0.6666666666666666,
             "#ed7953"
            ],
            [
             0.7777777777777778,
             "#fb9f3a"
            ],
            [
             0.8888888888888888,
             "#fdca26"
            ],
            [
             1,
             "#f0f921"
            ]
           ]
          },
          "colorway": [
           "#636efa",
           "#EF553B",
           "#00cc96",
           "#ab63fa",
           "#FFA15A",
           "#19d3f3",
           "#FF6692",
           "#B6E880",
           "#FF97FF",
           "#FECB52"
          ],
          "font": {
           "color": "#2a3f5f"
          },
          "geo": {
           "bgcolor": "white",
           "lakecolor": "white",
           "landcolor": "#E5ECF6",
           "showlakes": true,
           "showland": true,
           "subunitcolor": "white"
          },
          "hoverlabel": {
           "align": "left"
          },
          "hovermode": "closest",
          "mapbox": {
           "style": "light"
          },
          "paper_bgcolor": "white",
          "plot_bgcolor": "#E5ECF6",
          "polar": {
           "angularaxis": {
            "gridcolor": "white",
            "linecolor": "white",
            "ticks": ""
           },
           "bgcolor": "#E5ECF6",
           "radialaxis": {
            "gridcolor": "white",
            "linecolor": "white",
            "ticks": ""
           }
          },
          "scene": {
           "xaxis": {
            "backgroundcolor": "#E5ECF6",
            "gridcolor": "white",
            "gridwidth": 2,
            "linecolor": "white",
            "showbackground": true,
            "ticks": "",
            "zerolinecolor": "white"
           },
           "yaxis": {
            "backgroundcolor": "#E5ECF6",
            "gridcolor": "white",
            "gridwidth": 2,
            "linecolor": "white",
            "showbackground": true,
            "ticks": "",
            "zerolinecolor": "white"
           },
           "zaxis": {
            "backgroundcolor": "#E5ECF6",
            "gridcolor": "white",
            "gridwidth": 2,
            "linecolor": "white",
            "showbackground": true,
            "ticks": "",
            "zerolinecolor": "white"
           }
          },
          "shapedefaults": {
           "line": {
            "color": "#2a3f5f"
           }
          },
          "ternary": {
           "aaxis": {
            "gridcolor": "white",
            "linecolor": "white",
            "ticks": ""
           },
           "baxis": {
            "gridcolor": "white",
            "linecolor": "white",
            "ticks": ""
           },
           "bgcolor": "#E5ECF6",
           "caxis": {
            "gridcolor": "white",
            "linecolor": "white",
            "ticks": ""
           }
          },
          "title": {
           "x": 0.05
          },
          "xaxis": {
           "automargin": true,
           "gridcolor": "white",
           "linecolor": "white",
           "ticks": "",
           "title": {
            "standoff": 15
           },
           "zerolinecolor": "white",
           "zerolinewidth": 2
          },
          "yaxis": {
           "automargin": true,
           "gridcolor": "white",
           "linecolor": "white",
           "ticks": "",
           "title": {
            "standoff": 15
           },
           "zerolinecolor": "white",
           "zerolinewidth": 2
          }
         }
        },
        "title": {
         "text": "<b></b><b>Recursos del Fondo de Garantía de Depósitos FOGADE</b><br><i>Saldo en millones de dólares</i>"
        },
        "width": 1200,
        "xaxis": {
         "type": "category"
        }
       }
      },
      "text/html": [
       "<div>\n",
       "        \n",
       "        \n",
       "            <div id=\"2278fa39-4881-4508-97ad-86155d8ffe9e\" class=\"plotly-graph-div\" style=\"height:600px; width:1200px;\"></div>\n",
       "            <script type=\"text/javascript\">\n",
       "                require([\"plotly\"], function(Plotly) {\n",
       "                    window.PLOTLYENV=window.PLOTLYENV || {};\n",
       "                    \n",
       "                if (document.getElementById(\"2278fa39-4881-4508-97ad-86155d8ffe9e\")) {\n",
       "                    Plotly.newPlot(\n",
       "                        '2278fa39-4881-4508-97ad-86155d8ffe9e',\n",
       "                        [{\"marker\": {\"color\": [2, 3, 4, 5, 6, 7, 8, 9, 10, 11, 12, 13, 14], \"colorscale\": [[0.0, \"rgb(196, 230, 195)\"], [0.16666666666666666, \"rgb(150, 210, 164)\"], [0.3333333333333333, \"rgb(109, 188, 144)\"], [0.5, \"rgb(77, 162, 132)\"], [0.6666666666666666, \"rgb(54, 135, 122)\"], [0.8333333333333334, \"rgb(38, 107, 110)\"], [1.0, \"rgb(29, 79, 96)\"]]}, \"text\": [\"119.3\", \"129.3\", \"139.8\", \"152.1\", \"165.8\", \"181.7\", \"198.5\", \"201.5\", \"203.9\", \"204.6\"], \"textposition\": \"auto\", \"type\": \"bar\", \"x\": [\"2013\", \"2014\", \"2015\", \"2016\", \"2017\", \"2018\", \"2019\", \"Mar-20\", \"Jun-20\", \"Jul-20\"], \"y\": [119.3, 129.3, 139.8, 152.1, 165.8, 181.7, 198.5, 201.5, 203.9, 204.6]}],\n",
       "                        {\"annotations\": [{\"showarrow\": false, \"text\": \"Fuente: FOGADE\", \"x\": 0.5, \"xref\": \"paper\", \"y\": -0.15, \"yref\": \"paper\"}], \"autosize\": false, \"barmode\": \"stack\", \"font\": {\"color\": \"#000000\", \"family\": \"Courier New, monospace\", \"size\": 18}, \"height\": 600, \"paper_bgcolor\": \"rgb(206, 220, 227)\", \"plot_bgcolor\": \"rgb(206, 220, 227)\", \"template\": {\"data\": {\"bar\": [{\"error_x\": {\"color\": \"#2a3f5f\"}, \"error_y\": {\"color\": \"#2a3f5f\"}, \"marker\": {\"line\": {\"color\": \"#E5ECF6\", \"width\": 0.5}}, \"type\": \"bar\"}], \"barpolar\": [{\"marker\": {\"line\": {\"color\": \"#E5ECF6\", \"width\": 0.5}}, \"type\": \"barpolar\"}], \"carpet\": [{\"aaxis\": {\"endlinecolor\": \"#2a3f5f\", \"gridcolor\": \"white\", \"linecolor\": \"white\", \"minorgridcolor\": \"white\", \"startlinecolor\": \"#2a3f5f\"}, \"baxis\": {\"endlinecolor\": \"#2a3f5f\", \"gridcolor\": \"white\", \"linecolor\": \"white\", \"minorgridcolor\": \"white\", \"startlinecolor\": \"#2a3f5f\"}, \"type\": \"carpet\"}], \"choropleth\": [{\"colorbar\": {\"outlinewidth\": 0, \"ticks\": \"\"}, \"type\": \"choropleth\"}], \"contour\": [{\"colorbar\": {\"outlinewidth\": 0, \"ticks\": \"\"}, \"colorscale\": [[0.0, \"#0d0887\"], [0.1111111111111111, \"#46039f\"], [0.2222222222222222, \"#7201a8\"], [0.3333333333333333, \"#9c179e\"], [0.4444444444444444, \"#bd3786\"], [0.5555555555555556, \"#d8576b\"], [0.6666666666666666, \"#ed7953\"], [0.7777777777777778, \"#fb9f3a\"], [0.8888888888888888, \"#fdca26\"], [1.0, \"#f0f921\"]], \"type\": \"contour\"}], \"contourcarpet\": [{\"colorbar\": {\"outlinewidth\": 0, \"ticks\": \"\"}, \"type\": \"contourcarpet\"}], \"heatmap\": [{\"colorbar\": {\"outlinewidth\": 0, \"ticks\": \"\"}, \"colorscale\": [[0.0, \"#0d0887\"], [0.1111111111111111, \"#46039f\"], [0.2222222222222222, \"#7201a8\"], [0.3333333333333333, \"#9c179e\"], [0.4444444444444444, \"#bd3786\"], [0.5555555555555556, \"#d8576b\"], [0.6666666666666666, \"#ed7953\"], [0.7777777777777778, \"#fb9f3a\"], [0.8888888888888888, \"#fdca26\"], [1.0, \"#f0f921\"]], \"type\": \"heatmap\"}], \"heatmapgl\": [{\"colorbar\": {\"outlinewidth\": 0, \"ticks\": \"\"}, \"colorscale\": [[0.0, \"#0d0887\"], [0.1111111111111111, \"#46039f\"], [0.2222222222222222, \"#7201a8\"], [0.3333333333333333, \"#9c179e\"], [0.4444444444444444, \"#bd3786\"], [0.5555555555555556, \"#d8576b\"], [0.6666666666666666, \"#ed7953\"], [0.7777777777777778, \"#fb9f3a\"], [0.8888888888888888, \"#fdca26\"], [1.0, \"#f0f921\"]], \"type\": \"heatmapgl\"}], \"histogram\": [{\"marker\": {\"colorbar\": {\"outlinewidth\": 0, \"ticks\": \"\"}}, \"type\": \"histogram\"}], \"histogram2d\": [{\"colorbar\": {\"outlinewidth\": 0, \"ticks\": \"\"}, \"colorscale\": [[0.0, \"#0d0887\"], [0.1111111111111111, \"#46039f\"], [0.2222222222222222, \"#7201a8\"], [0.3333333333333333, \"#9c179e\"], [0.4444444444444444, \"#bd3786\"], [0.5555555555555556, \"#d8576b\"], [0.6666666666666666, \"#ed7953\"], [0.7777777777777778, \"#fb9f3a\"], [0.8888888888888888, \"#fdca26\"], [1.0, \"#f0f921\"]], \"type\": \"histogram2d\"}], \"histogram2dcontour\": [{\"colorbar\": {\"outlinewidth\": 0, \"ticks\": \"\"}, \"colorscale\": [[0.0, \"#0d0887\"], [0.1111111111111111, \"#46039f\"], [0.2222222222222222, \"#7201a8\"], [0.3333333333333333, \"#9c179e\"], [0.4444444444444444, \"#bd3786\"], [0.5555555555555556, \"#d8576b\"], [0.6666666666666666, \"#ed7953\"], [0.7777777777777778, \"#fb9f3a\"], [0.8888888888888888, \"#fdca26\"], [1.0, \"#f0f921\"]], \"type\": \"histogram2dcontour\"}], \"mesh3d\": [{\"colorbar\": {\"outlinewidth\": 0, \"ticks\": \"\"}, \"type\": \"mesh3d\"}], \"parcoords\": [{\"line\": {\"colorbar\": {\"outlinewidth\": 0, \"ticks\": \"\"}}, \"type\": \"parcoords\"}], \"pie\": [{\"automargin\": true, \"type\": \"pie\"}], \"scatter\": [{\"marker\": {\"colorbar\": {\"outlinewidth\": 0, \"ticks\": \"\"}}, \"type\": \"scatter\"}], \"scatter3d\": [{\"line\": {\"colorbar\": {\"outlinewidth\": 0, \"ticks\": \"\"}}, \"marker\": {\"colorbar\": {\"outlinewidth\": 0, \"ticks\": \"\"}}, \"type\": \"scatter3d\"}], \"scattercarpet\": [{\"marker\": {\"colorbar\": {\"outlinewidth\": 0, \"ticks\": \"\"}}, \"type\": \"scattercarpet\"}], \"scattergeo\": [{\"marker\": {\"colorbar\": {\"outlinewidth\": 0, \"ticks\": \"\"}}, \"type\": \"scattergeo\"}], \"scattergl\": [{\"marker\": {\"colorbar\": {\"outlinewidth\": 0, \"ticks\": \"\"}}, \"type\": \"scattergl\"}], \"scattermapbox\": [{\"marker\": {\"colorbar\": {\"outlinewidth\": 0, \"ticks\": \"\"}}, \"type\": \"scattermapbox\"}], \"scatterpolar\": [{\"marker\": {\"colorbar\": {\"outlinewidth\": 0, \"ticks\": \"\"}}, \"type\": \"scatterpolar\"}], \"scatterpolargl\": [{\"marker\": {\"colorbar\": {\"outlinewidth\": 0, \"ticks\": \"\"}}, \"type\": \"scatterpolargl\"}], \"scatterternary\": [{\"marker\": {\"colorbar\": {\"outlinewidth\": 0, \"ticks\": \"\"}}, \"type\": \"scatterternary\"}], \"surface\": [{\"colorbar\": {\"outlinewidth\": 0, \"ticks\": \"\"}, \"colorscale\": [[0.0, \"#0d0887\"], [0.1111111111111111, \"#46039f\"], [0.2222222222222222, \"#7201a8\"], [0.3333333333333333, \"#9c179e\"], [0.4444444444444444, \"#bd3786\"], [0.5555555555555556, \"#d8576b\"], [0.6666666666666666, \"#ed7953\"], [0.7777777777777778, \"#fb9f3a\"], [0.8888888888888888, \"#fdca26\"], [1.0, \"#f0f921\"]], \"type\": \"surface\"}], \"table\": [{\"cells\": {\"fill\": {\"color\": \"#EBF0F8\"}, \"line\": {\"color\": \"white\"}}, \"header\": {\"fill\": {\"color\": \"#C8D4E3\"}, \"line\": {\"color\": \"white\"}}, \"type\": \"table\"}]}, \"layout\": {\"annotationdefaults\": {\"arrowcolor\": \"#2a3f5f\", \"arrowhead\": 0, \"arrowwidth\": 1}, \"coloraxis\": {\"colorbar\": {\"outlinewidth\": 0, \"ticks\": \"\"}}, \"colorscale\": {\"diverging\": [[0, \"#8e0152\"], [0.1, \"#c51b7d\"], [0.2, \"#de77ae\"], [0.3, \"#f1b6da\"], [0.4, \"#fde0ef\"], [0.5, \"#f7f7f7\"], [0.6, \"#e6f5d0\"], [0.7, \"#b8e186\"], [0.8, \"#7fbc41\"], [0.9, \"#4d9221\"], [1, \"#276419\"]], \"sequential\": [[0.0, \"#0d0887\"], [0.1111111111111111, \"#46039f\"], [0.2222222222222222, \"#7201a8\"], [0.3333333333333333, \"#9c179e\"], [0.4444444444444444, \"#bd3786\"], [0.5555555555555556, \"#d8576b\"], [0.6666666666666666, \"#ed7953\"], [0.7777777777777778, \"#fb9f3a\"], [0.8888888888888888, \"#fdca26\"], [1.0, \"#f0f921\"]], \"sequentialminus\": [[0.0, \"#0d0887\"], [0.1111111111111111, \"#46039f\"], [0.2222222222222222, \"#7201a8\"], [0.3333333333333333, \"#9c179e\"], [0.4444444444444444, \"#bd3786\"], [0.5555555555555556, \"#d8576b\"], [0.6666666666666666, \"#ed7953\"], [0.7777777777777778, \"#fb9f3a\"], [0.8888888888888888, \"#fdca26\"], [1.0, \"#f0f921\"]]}, \"colorway\": [\"#636efa\", \"#EF553B\", \"#00cc96\", \"#ab63fa\", \"#FFA15A\", \"#19d3f3\", \"#FF6692\", \"#B6E880\", \"#FF97FF\", \"#FECB52\"], \"font\": {\"color\": \"#2a3f5f\"}, \"geo\": {\"bgcolor\": \"white\", \"lakecolor\": \"white\", \"landcolor\": \"#E5ECF6\", \"showlakes\": true, \"showland\": true, \"subunitcolor\": \"white\"}, \"hoverlabel\": {\"align\": \"left\"}, \"hovermode\": \"closest\", \"mapbox\": {\"style\": \"light\"}, \"paper_bgcolor\": \"white\", \"plot_bgcolor\": \"#E5ECF6\", \"polar\": {\"angularaxis\": {\"gridcolor\": \"white\", \"linecolor\": \"white\", \"ticks\": \"\"}, \"bgcolor\": \"#E5ECF6\", \"radialaxis\": {\"gridcolor\": \"white\", \"linecolor\": \"white\", \"ticks\": \"\"}}, \"scene\": {\"xaxis\": {\"backgroundcolor\": \"#E5ECF6\", \"gridcolor\": \"white\", \"gridwidth\": 2, \"linecolor\": \"white\", \"showbackground\": true, \"ticks\": \"\", \"zerolinecolor\": \"white\"}, \"yaxis\": {\"backgroundcolor\": \"#E5ECF6\", \"gridcolor\": \"white\", \"gridwidth\": 2, \"linecolor\": \"white\", \"showbackground\": true, \"ticks\": \"\", \"zerolinecolor\": \"white\"}, \"zaxis\": {\"backgroundcolor\": \"#E5ECF6\", \"gridcolor\": \"white\", \"gridwidth\": 2, \"linecolor\": \"white\", \"showbackground\": true, \"ticks\": \"\", \"zerolinecolor\": \"white\"}}, \"shapedefaults\": {\"line\": {\"color\": \"#2a3f5f\"}}, \"ternary\": {\"aaxis\": {\"gridcolor\": \"white\", \"linecolor\": \"white\", \"ticks\": \"\"}, \"baxis\": {\"gridcolor\": \"white\", \"linecolor\": \"white\", \"ticks\": \"\"}, \"bgcolor\": \"#E5ECF6\", \"caxis\": {\"gridcolor\": \"white\", \"linecolor\": \"white\", \"ticks\": \"\"}}, \"title\": {\"x\": 0.05}, \"xaxis\": {\"automargin\": true, \"gridcolor\": \"white\", \"linecolor\": \"white\", \"ticks\": \"\", \"title\": {\"standoff\": 15}, \"zerolinecolor\": \"white\", \"zerolinewidth\": 2}, \"yaxis\": {\"automargin\": true, \"gridcolor\": \"white\", \"linecolor\": \"white\", \"ticks\": \"\", \"title\": {\"standoff\": 15}, \"zerolinecolor\": \"white\", \"zerolinewidth\": 2}}}, \"title\": {\"text\": \"<b></b><b>Recursos del Fondo de Garant\\u00eda de Dep\\u00f3sitos FOGADE</b><br><i>Saldo en millones de d\\u00f3lares</i>\"}, \"width\": 1200, \"xaxis\": {\"type\": \"category\"}},\n",
       "                        {\"responsive\": true}\n",
       "                    ).then(function(){\n",
       "                            \n",
       "var gd = document.getElementById('2278fa39-4881-4508-97ad-86155d8ffe9e');\n",
       "var x = new MutationObserver(function (mutations, observer) {{\n",
       "        var display = window.getComputedStyle(gd).display;\n",
       "        if (!display || display === 'none') {{\n",
       "            console.log([gd, 'removed!']);\n",
       "            Plotly.purge(gd);\n",
       "            observer.disconnect();\n",
       "        }}\n",
       "}});\n",
       "\n",
       "// Listen for the removal of the full notebook cells\n",
       "var notebookContainer = gd.closest('#notebook-container');\n",
       "if (notebookContainer) {{\n",
       "    x.observe(notebookContainer, {childList: true});\n",
       "}}\n",
       "\n",
       "// Listen for the clearing of the current output cell\n",
       "var outputEl = gd.closest('.output');\n",
       "if (outputEl) {{\n",
       "    x.observe(outputEl, {childList: true});\n",
       "}}\n",
       "\n",
       "                        })\n",
       "                };\n",
       "                });\n",
       "            </script>\n",
       "        </div>"
      ]
     },
     "metadata": {},
     "output_type": "display_data"
    }
   ],
   "source": [
    "fig.show()"
   ]
  },
  {
   "cell_type": "code",
   "execution_count": 8,
   "metadata": {
    "colab": {
     "base_uri": "https://localhost:8080/",
     "height": 36
    },
    "colab_type": "code",
    "id": "S0OYkhi8Hb_H",
    "outputId": "ef5b73da-512e-4224-aea5-82e40470546e"
   },
   "outputs": [
    {
     "data": {
      "text/plain": [
       "'temp-plot.html'"
      ]
     },
     "execution_count": 8,
     "metadata": {},
     "output_type": "execute_result"
    }
   ],
   "source": [
    "import plotly.offline\n",
    "import plotly.graph_objs as go\n",
    "plotly.offline.plot(fig, \n",
    "                    image_width='1200',\n",
    "                   image_height='600',\n",
    "                     image='svg', image_filename='test')"
   ]
  },
  {
   "cell_type": "code",
   "execution_count": 4,
   "metadata": {
    "colab": {
     "base_uri": "https://localhost:8080/",
     "height": 36
    },
    "colab_type": "code",
    "id": "S0OYkhi8Hb_H",
    "outputId": "ef5b73da-512e-4224-aea5-82e40470546e"
   },
   "outputs": [
    {
     "data": {
      "text/plain": [
       "'temp-plot.html'"
      ]
     },
     "execution_count": 4,
     "metadata": {},
     "output_type": "execute_result"
    }
   ],
   "source": []
  },
  {
   "cell_type": "code",
   "execution_count": null,
   "metadata": {
    "colab": {},
    "colab_type": "code",
    "id": "KpH0UIjJ2RGT"
   },
   "outputs": [],
   "source": [
    "################################################################################\n",
    "################################################################################"
   ]
  },
  {
   "cell_type": "markdown",
   "metadata": {
    "colab_type": "text",
    "id": "nNIoKQ69bGhx"
   },
   "source": [
    "# Depósitos Garantizados por FOGADE"
   ]
  },
  {
   "cell_type": "code",
   "execution_count": null,
   "metadata": {
    "colab": {
     "base_uri": "https://localhost:8080/",
     "height": 36
    },
    "colab_type": "code",
    "id": "0NTQ62o5a_To",
    "outputId": "981a418f-1ac8-4220-bbd3-b9d6d0bf8c34"
   },
   "outputs": [],
   "source": [
    "import plotly.graph_objects as go\n",
    "from plotly.subplots import make_subplots\n",
    "\n",
    "#Fig = go.Figure()\n",
    "fig = make_subplots(specs=[[{\"secondary_y\": True}]])\n",
    "\n",
    "\n",
    "x1 = [\"2013\", \n",
    "           \"2014\", \n",
    "           \"2015\", \n",
    "           \"2016\", \n",
    "           \"2017\", \n",
    "           \"2018\", \n",
    "            \"2019\",\n",
    "         'Mar-20',\n",
    "#         'Abr-20',\n",
    "#         'May-20',\n",
    "         'Jun-20',\n",
    "         'Jul-20']\n",
    "\n",
    "y1 = [    808, \n",
    "           868, \n",
    "           926, \n",
    "           995, \n",
    "          1067, \n",
    "           868,\n",
    "           896,\n",
    "           905,\n",
    "#           935,\n",
    "#           921,\n",
    "           935,\n",
    "           950]\n",
    "\n",
    "y2 = [    3.34, \n",
    "           7.41, \n",
    "           6.72, \n",
    "           7.40, \n",
    "           7.25,\n",
    "         -18.64,\n",
    "           3.23,\n",
    "           1.07,\n",
    "#           4.35,\n",
    "#           2.75,\n",
    "            4.33]\n",
    "\n",
    "fig.add_trace(go.Bar(\n",
    "    x = x1,\n",
    "\n",
    "y = y1,\n",
    "           text=y1,\n",
    "            textposition='auto',\n",
    "           marker={\"color\": '#3498DB'},\n",
    "           name=\"Depósitos Garantizados\"),\n",
    "           secondary_y=False,\n",
    ")\n",
    "\n",
    "fig.add_trace(go.Scatter(\n",
    "    x = x1, \n",
    "y = y2,\n",
    "           text=y2,\n",
    "           textposition='top center',\n",
    "           texttemplate = \"%{text}%\",\n",
    "           mode='lines+markers+text',\n",
    "          name=\"Crecimiento Interanual\"\n",
    "\n",
    "),\n",
    "           secondary_y=True,\n",
    "\n",
    "           )\n",
    "\n",
    "\n",
    "fig['layout']['yaxis2'].update(title='', range=[-20, 22], autorange=False)\n",
    "fig['layout']['yaxis2']['showgrid'] = False\n",
    "\n",
    "\n",
    "fig.update_layout(barmode='stack', xaxis_type='category', legend_orientation=\"h\",\n",
    "                   title='<b></b><b>Depósitos Garantizados por FOGADE</b><br><i>Saldo en millones de dólares</i>',\n",
    "                  #\"\",\n",
    "                  paper_bgcolor='rgb(206, 220, 227)',\n",
    "                  plot_bgcolor='rgb(206, 220, 227)',\n",
    "                  font=dict(\n",
    "        family=\"Courier New, monospace\",\n",
    "        size=18,\n",
    "        color=\"#000000\"\n",
    "        ),\n",
    "       annotations=[\n",
    "        dict(\n",
    "            x= 1, #0.5,\n",
    "            y= -0.22, #-0.15,\n",
    "            showarrow=False,\n",
    "            text=\"Fuente: FOGADE\",\n",
    "            xref=\"paper\",\n",
    "            yref=\"paper\")],\n",
    "\n",
    "            autosize=False,\n",
    "            width=1200,\n",
    "            height=600          \n",
    "    )\n",
    "\n",
    "#plot(fig, auto_open=True)\n",
    "import plotly.offline\n",
    "import plotly.graph_objs as go\n",
    "\n",
    "plotly.offline.plot(fig, \n",
    "                    image_width='1200',\n",
    "                   image_height='600',\n",
    "                     image='svg', image_filename='test')     \n"
   ]
  },
  {
   "cell_type": "code",
   "execution_count": null,
   "metadata": {
    "colab": {
     "base_uri": "https://localhost:8080/",
     "height": 637
    },
    "colab_type": "code",
    "id": "UF3X_P40YbMS",
    "outputId": "ad075f33-fbc7-4c18-903f-57de79dde4e2"
   },
   "outputs": [],
   "source": [
    "fig.show()"
   ]
  },
  {
   "cell_type": "markdown",
   "metadata": {
    "colab_type": "text",
    "id": "ChJvqoSqDfvP"
   },
   "source": [
    "# Participación de los Depósitos del Público"
   ]
  },
  {
   "cell_type": "code",
   "execution_count": null,
   "metadata": {
    "colab": {
     "base_uri": "https://localhost:8080/",
     "height": 36
    },
    "colab_type": "code",
    "id": "OS1-rxY1bEnl",
    "outputId": "19cc21b4-c7bf-4444-f6f0-fb840949f253"
   },
   "outputs": [],
   "source": [
    "import plotly.graph_objects as go\n",
    "from plotly.subplots import make_subplots\n",
    "\n",
    "\n",
    "#fig = go.Figure()\n",
    "fig = make_subplots(specs=[[{\"secondary_y\": True}]])\n",
    "\n",
    "x1 = ['BANNPRO', \n",
    "      'LAFISE',\n",
    "      'BAC',\n",
    "      'BDF',\n",
    "      'FICOHSA',\n",
    "      'AVANZ',\n",
    "      'ATLANTIDA']\n",
    "\n",
    "y1 = [32.1,  #Diciembre 19\n",
    "      26.4,\n",
    "      24.7,\n",
    "      8.2,\n",
    "      5.7,\n",
    "      2.9,\n",
    "      0.05]\n",
    "\n",
    "y2 = [31.6,  #Junio 20\n",
    "      25.0,\n",
    "      26.0,\n",
    "      8.0,\n",
    "      6.7,\n",
    "      2.7,\n",
    "      0.04]\n",
    "\n",
    "fig.add_trace(go.Bar(\n",
    "    x = x1,\n",
    "\n",
    "y = y1,\n",
    "           text=y1,\n",
    "           textposition='auto',\n",
    "           texttemplate = \"%{text}%\",\n",
    "           marker={\"color\": '#3498DB'},\n",
    "           name=\"Diciembre 19\")\n",
    ")\n",
    "\n",
    "fig.add_trace(go.Bar(\n",
    "    x = x1, \n",
    "y = y2,\n",
    "           text=y2,\n",
    "           textposition='auto',\n",
    "           texttemplate = \"%{text}%\",\n",
    "           marker={\"color\": '#73C6B6'},\n",
    "           name=\"Junio 20\")\n",
    "\n",
    "           )\n",
    "\n",
    "\n",
    "#fig['layout']['yaxis1'].update(title='', range=[-20, 22], autorange=False)\n",
    "#fig['layout']['yaxis2']['showgrid'] = False\n",
    "\n",
    "\n",
    "fig.update_layout(barmode='group', xaxis_type='category', legend_orientation=\"v\",\n",
    "                   title='<b></b><b>Participación de los Depósitos del Público</b><br><i>Porcentajes</i>',\n",
    "                  #\"\",\n",
    "                  paper_bgcolor='rgb(206, 220, 227)',\n",
    "                  plot_bgcolor='rgb(206, 220, 227)',\n",
    "                  font=dict(\n",
    "        family=\"Courier New, monospace\",\n",
    "        size=18,\n",
    "        color=\"#000000\"\n",
    "        ),\n",
    "       annotations=[\n",
    "        dict(\n",
    "            x= 1.2, #0.9,\n",
    "            y= -0.15, #-0.15,\n",
    "            showarrow=False,\n",
    "            text=\"Fuente: FOGADE\",\n",
    "            xref=\"paper\",\n",
    "            yref=\"paper\")],\n",
    "\n",
    "            autosize=False,\n",
    "            width=1200,\n",
    "            height=600          \n",
    "    )\n",
    "\n",
    "#plot(fig, auto_open=True)\n",
    "import plotly.offline\n",
    "import plotly.graph_objs as go\n",
    "\n",
    "plotly.offline.plot(fig, \n",
    "                    image_width='1200',\n",
    "                   image_height='600',\n",
    "                     image='svg', image_filename='test')     \n",
    "\n",
    "\n",
    "\n",
    "\n",
    "  \n"
   ]
  },
  {
   "cell_type": "code",
   "execution_count": null,
   "metadata": {
    "colab": {
     "base_uri": "https://localhost:8080/",
     "height": 637
    },
    "colab_type": "code",
    "id": "DW5TzXkfYfjr",
    "outputId": "c43864e4-cb46-4532-ec86-4af8d6b2acc4"
   },
   "outputs": [],
   "source": [
    "fig.show()"
   ]
  },
  {
   "cell_type": "markdown",
   "metadata": {
    "colab_type": "text",
    "id": "Oa_kpV7z5M56"
   },
   "source": [
    "# Participación de los Depósitos Asegurados"
   ]
  },
  {
   "cell_type": "code",
   "execution_count": null,
   "metadata": {
    "colab": {
     "base_uri": "https://localhost:8080/",
     "height": 36
    },
    "colab_type": "code",
    "id": "wjYC7uTV5MCH",
    "outputId": "1275f78f-37d9-43a4-822d-f125509b7752"
   },
   "outputs": [],
   "source": [
    "import plotly.graph_objects as go\n",
    "from plotly.subplots import make_subplots\n",
    "\n",
    "\n",
    "#fig = go.Figure()\n",
    "fig = make_subplots(specs=[[{\"secondary_y\": True}]])\n",
    "\n",
    "x1 = ['BANNPRO', \n",
    "      'LAFISE',\n",
    "      'BAC',\n",
    "      'BDF',\n",
    "      'FICOHSA',\n",
    "      'AVANZ',\n",
    "      'ATLANTIDA']\n",
    "\n",
    "y1 = [18.7,  #Diciembre 19\n",
    "      31.4,\n",
    "      31.2,\n",
    "      11.7,\n",
    "      4.9,\n",
    "      2.0,\n",
    "      0.01]\n",
    "\n",
    "y2 = [18.6,  #Junio 20\n",
    "      32.0,\n",
    "      31.8,\n",
    "      10.6,\n",
    "      5.1,\n",
    "      1.8,\n",
    "      0.03]\n",
    "\n",
    "fig.add_trace(go.Bar(\n",
    "    x = x1,\n",
    "\n",
    "y = y1,\n",
    "           text=y1,\n",
    "           textposition='auto',\n",
    "           texttemplate = \"%{text}%\",\n",
    "           marker={\"color\": '#DC7633'},\n",
    "           name=\"Diciembre 19\")\n",
    ")\n",
    "\n",
    "fig.add_trace(go.Bar(\n",
    "    x = x1, \n",
    "y = y2,\n",
    "           text=y2,\n",
    "           textposition='auto',\n",
    "           texttemplate = \"%{text}%\",\n",
    "           marker={\"color\": '#58D68D'},\n",
    "           name=\"Junio 20\")\n",
    "\n",
    "           )\n",
    "\n",
    "\n",
    "#fig['layout']['yaxis2'].update(title='', range=[-20, 22], autorange=False)\n",
    "#fig['layout']['yaxis2']['showgrid'] = False\n",
    "\n",
    "\n",
    "fig.update_layout(barmode='group', xaxis_type='category', legend_orientation=\"v\",\n",
    "                   title='<b></b><b>Participación de los Depósitos Asegurados</b><br><i>Porcentajes</i>',\n",
    "                  #\"\",\n",
    "                  paper_bgcolor='rgb(206, 220, 227)',\n",
    "                  plot_bgcolor='rgb(206, 220, 227)',\n",
    "                  font=dict(\n",
    "        family=\"Courier New, monospace\",\n",
    "        size=18,\n",
    "        color=\"#000000\"\n",
    "        ),\n",
    "       annotations=[\n",
    "        dict(\n",
    "            x= 1.2, #0.9,\n",
    "            y= -0.15, #-0.15,\n",
    "            showarrow=False,\n",
    "            text=\"Fuente: FOGADE\",\n",
    "            xref=\"paper\",\n",
    "            yref=\"paper\")],\n",
    "\n",
    "            autosize=False,\n",
    "            width=1200,\n",
    "            height=600          \n",
    "    )\n",
    "\n",
    "#plot(fig, auto_open=True)\n",
    "import plotly.offline\n",
    "import plotly.graph_objs as go\n",
    "\n",
    "plotly.offline.plot(fig, \n",
    "                    image_width='1200',\n",
    "                   image_height='600',\n",
    "                     image='svg', image_filename='test')     "
   ]
  },
  {
   "cell_type": "code",
   "execution_count": null,
   "metadata": {
    "colab": {
     "base_uri": "https://localhost:8080/",
     "height": 637
    },
    "colab_type": "code",
    "id": "-Gmb2w2SYkJA",
    "outputId": "9f267b0d-d0fb-436c-f609-63a2bea8c72a"
   },
   "outputs": [],
   "source": [
    "fig.show()"
   ]
  },
  {
   "cell_type": "markdown",
   "metadata": {
    "colab_type": "text",
    "id": "NwIUwijU6zm0"
   },
   "source": [
    "# Depósitos Garantizados / Depósitos del Público"
   ]
  },
  {
   "cell_type": "code",
   "execution_count": null,
   "metadata": {
    "colab": {
     "base_uri": "https://localhost:8080/",
     "height": 36
    },
    "colab_type": "code",
    "id": "keR9yzUt7sw7",
    "outputId": "b10b5b0e-dc41-4f87-cf3b-bb872b21551d"
   },
   "outputs": [],
   "source": [
    "import plotly.graph_objects as go\n",
    "\n",
    "fig = go.Figure()\n",
    "\n",
    "x1 = [\"2013\", \n",
    "  \"2014\", \n",
    "  \"2015\", \n",
    "  \"2016\", \n",
    "  \"2017\", \n",
    "  \"2018\", \n",
    "#  \"Mar-19\", \n",
    "#  \"Jun-19\",\n",
    "#  \"Jul-19\",\n",
    "#  \"Ago-19\",\n",
    "#   \"Sep-19\",\n",
    "#   \"Oct-19\",\n",
    "#   \"Nov-19\",\n",
    "    \"2019\",\n",
    "#    \"Ene-20\",\n",
    "#    \"Feb-20\",\n",
    "    'Mar-20',\n",
    "#    'Abr-20',\n",
    "#    'May-20',\n",
    "    'Jun-20']\n",
    "\n",
    "y1 = [20.7, \n",
    "  19.6, \n",
    "  19.3, \n",
    "  20.0, \n",
    "  22.1,\n",
    "  21.9, \n",
    "#  22.0, \n",
    "#  22.5,\n",
    "#  22.7,\n",
    "#  23.7,\n",
    "#   23.6,\n",
    " #  23.7,\n",
    " #  23.9,\n",
    "    24.6,\n",
    "#    24.4,\n",
    "#    23.8,\n",
    "    24.0,\n",
    "#    24.6,\n",
    "#    24.0,\n",
    "   24.2]\n",
    "\n",
    "# Offset the line length by the marker size to avoid overlapping\n",
    "marker_offset = 0.04\n",
    "\n",
    "def offset_signal(signal, marker_offset):\n",
    "    if abs(signal) <= marker_offset:\n",
    "        return 0\n",
    "    return signal - marker_offset if signal > 0 else signal + marker_offset\n",
    "\n",
    "\n",
    "fig.add_trace(go.Scatter(\n",
    "    x = x1, \n",
    "y = y1,\n",
    "           text=y1,\n",
    "           textposition='top center',\n",
    "           texttemplate = \"%{text}%\",\n",
    "           mode='markers+text',\n",
    "          name=\"Crecimiento Interanual\",\n",
    "           marker=dict(size=20, color = '#76D7C4',\n",
    "                              line=dict(width=2,\n",
    "                                        color='#E59866'))\n",
    "\n",
    "))\n",
    "\n",
    "\n",
    "\n",
    "\n",
    "fig['layout']['yaxis1'].update(title='', range=[15, 26], autorange=False)\n",
    "#fig['layout']['yaxis2']['showgrid'] = False\n",
    "\n",
    "\n",
    "fig.update_layout(barmode='stack', xaxis_type='category', #legend_orientation=\"h\",\n",
    "                   title='<b></b><b>Depósitos Garantizados / Depósitos del Público </b><br><i>Saldo en millones de dólares</i>',\n",
    "                  #\"\",\n",
    "                  paper_bgcolor='rgb(255, 255, 255)',\n",
    "                  plot_bgcolor='rgb(255, 255, 255)',\n",
    "                  font=dict(\n",
    "        family=\"Courier New, monospace\",\n",
    "        size=18,\n",
    "        color=\"#000000\"\n",
    "        ),\n",
    "       annotations=[\n",
    "        dict(\n",
    "            x= 1, #0.5,\n",
    "            y= -0.20, #-0.15,\n",
    "            showarrow=False,\n",
    "            text=\"Fuente: FOGADE\",\n",
    "            xref=\"paper\",\n",
    "            yref=\"paper\")],\n",
    "\n",
    "            autosize=False,\n",
    "            width=1200,\n",
    "            height=600,\n",
    "\n",
    "\n",
    "\n",
    "shapes=[dict(\n",
    "        type='line',\n",
    "        xref='x',\n",
    "        yref='y',\n",
    "        x0=i,\n",
    "        y0=0,\n",
    "        x1=i,\n",
    "        y1=offset_signal(y1[i], marker_offset),\n",
    "        line=dict(\n",
    "            color='grey',\n",
    "            width=1\n",
    "        )\n",
    "    ) for i in range(len(y1))]\n",
    ")\n",
    "\n",
    "fig.update_yaxes(showgrid=True, gridwidth=1, gridcolor='#AED6F1')\n",
    "\n",
    "\n",
    "#plot(fig, auto_open=True)\n",
    "import plotly.offline\n",
    "import plotly.graph_objs as go\n",
    "\n",
    "plotly.offline.plot(fig, \n",
    "                    image_width='1200',\n",
    "                   image_height='600',\n",
    "                     image='svg', image_filename='test')    "
   ]
  },
  {
   "cell_type": "code",
   "execution_count": null,
   "metadata": {
    "colab": {
     "base_uri": "https://localhost:8080/",
     "height": 637
    },
    "colab_type": "code",
    "id": "gw5You1VYnp-",
    "outputId": "479ee08b-91a6-4a03-d993-cdae21e2a85d"
   },
   "outputs": [],
   "source": [
    "fig.show()"
   ]
  },
  {
   "cell_type": "markdown",
   "metadata": {
    "colab_type": "text",
    "id": "lQNuUY2EF6SU"
   },
   "source": [
    "# Recursos del FOGADE / Depósitos Garantizados"
   ]
  },
  {
   "cell_type": "code",
   "execution_count": null,
   "metadata": {
    "colab": {
     "base_uri": "https://localhost:8080/",
     "height": 36
    },
    "colab_type": "code",
    "id": "PsJAc4nqGz89",
    "outputId": "3f69886e-1ed8-402e-bb53-323c5000bd57"
   },
   "outputs": [],
   "source": [
    "import plotly.graph_objects as go\n",
    "\n",
    "fig = go.Figure()\n",
    "\n",
    "x1 = [  \"2015\", \n",
    "  \"2016\", \n",
    "  \"2017\",\n",
    "  \"Mar-2018\", \n",
    "  \"2018\", \n",
    "    \"2019\",\n",
    "    'Mar-20',\n",
    "#    'Abr-20',\n",
    "#    'May-20',\n",
    "     'Jun-20']\n",
    "\n",
    "y1 = [   15.1, \n",
    "    15.3, \n",
    "    15.5,\n",
    "    15.7, \n",
    "    20.9,\n",
    "    22.2,\n",
    "    22.3,\n",
    "#    21.6,\n",
    "#    22.1,\n",
    "    21.8]\n",
    "\n",
    "# Offset the line length by the marker size to avoid overlapping\n",
    "#marker_offset = 0.04\n",
    "\n",
    "#def offset_signal(signal, marker_offset):\n",
    "#    if abs(signal) <= marker_offset:\n",
    "#        return 0\n",
    "#    return signal - marker_offset if signal > 0 else signal + marker_offset\n",
    "\n",
    "\n",
    "fig.add_trace(go.Scatter(\n",
    "    x = x1, \n",
    "y = y1,\n",
    "           text=y1,\n",
    "           textposition='top center',\n",
    "           texttemplate = \"%{text}%\",\n",
    "           mode='markers+text',\n",
    "          name=\"Crecimiento Interanual\",\n",
    "           marker=dict(size=40, color = '#D2B4DE',\n",
    "                              line=dict(width=1,\n",
    "                                        color='#E59866'))\n",
    "\n",
    "))\n",
    "\n",
    "\n",
    "\n",
    "\n",
    "fig['layout']['yaxis1'].update(title='', range=[14.3, 24], autorange=False)\n",
    "#fig['layout']['yaxis2']['showgrid'] = False\n",
    "\n",
    "\n",
    "fig.update_layout(barmode='stack', xaxis_type='category', #legend_orientation=\"h\",\n",
    "                   title='<b></b><b>Recursos del FOGADE / Depósitos Garantizados </b><br><i>Saldo en millones de dólares</i>',\n",
    "                  #\"\",\n",
    "                  paper_bgcolor='rgb(255, 255, 255)',\n",
    "                  plot_bgcolor='rgb(255, 255, 255)',\n",
    "                  font=dict(\n",
    "        family=\"Courier New, monospace\",\n",
    "        size=18,\n",
    "        color=\"#000000\"\n",
    "        ),\n",
    "       annotations=[\n",
    "        dict(\n",
    "            x= 1, #0.5,\n",
    "            y= -0.20, #-0.15,\n",
    "            showarrow=False,\n",
    "            text=\"Fuente: FOGADE\",\n",
    "            xref=\"paper\",\n",
    "            yref=\"paper\")],\n",
    "\n",
    "            autosize=False,\n",
    "            width=1200,\n",
    "            height=600\n",
    ")\n",
    "\n",
    "fig.update_yaxes(showgrid=True, gridwidth=1, gridcolor='#AED6F1')\n",
    "\n",
    "\n",
    "#plot(fig, auto_open=True)\n",
    "import plotly.offline\n",
    "import plotly.graph_objs as go\n",
    "\n",
    "plotly.offline.plot(fig, \n",
    "                    image_width='1200',\n",
    "                   image_height='600',\n",
    "                     image='svg', image_filename='test')    "
   ]
  },
  {
   "cell_type": "code",
   "execution_count": null,
   "metadata": {
    "colab": {
     "base_uri": "https://localhost:8080/",
     "height": 637
    },
    "colab_type": "code",
    "id": "gd-QZnynY8nb",
    "outputId": "f52c0a19-4e5b-4d7b-f14a-69e5852e72c3"
   },
   "outputs": [],
   "source": [
    "fig.show()"
   ]
  },
  {
   "cell_type": "markdown",
   "metadata": {
    "colab_type": "text",
    "id": "b_4obdCGKKpO"
   },
   "source": [
    "# Cobertura de Depósitos por Institución"
   ]
  },
  {
   "cell_type": "code",
   "execution_count": null,
   "metadata": {
    "colab": {
     "base_uri": "https://localhost:8080/",
     "height": 36
    },
    "colab_type": "code",
    "id": "9xvUJhWqIEtN",
    "outputId": "e06a89fe-03e8-4831-fb8e-b7abc3aa8d8b"
   },
   "outputs": [],
   "source": [
    "import plotly.graph_objects as go\n",
    "import numpy as np\n",
    "#from plotly.subplots import make_subplots\n",
    "\n",
    "fig = go.Figure()\n",
    "#fig = make_subplots(specs=[[{\"secondary_y\": True}]])\n",
    "\n",
    "\n",
    "x1 = [\"LAFISE\", \n",
    "    \"BAC\", \n",
    "    \"BANPRO\", \n",
    "    \"BDF\", \n",
    "    \"FICOHSA\", \n",
    "    \"AVANZ\",     \n",
    "    \"ATLANTIDA\"]\n",
    "\n",
    "y1 = [299.5,  #lafise  # Depósitos Asegurados\n",
    "    297.0,  #bac\n",
    "    173.7,  #banpro\n",
    "    99.2,  #bdf\n",
    "    48.0,   #ficohsa\n",
    "    17.0,   #avanz\n",
    "     0.27]  #Atlántida\n",
    "\n",
    "y2 = [ -95.6,   #lafise  #Superavit - Déficit\n",
    "    -93.1,   #bac\n",
    "     30.2,   #banpro\n",
    "    104.7,   #bdf\n",
    "    155.9,   #ficohsa\n",
    "    186.9,   #avanz\n",
    "    203.6]    #Atlántida\n",
    "\n",
    "y3 = list(np.repeat(203.9, 7))\n",
    "\n",
    "\n",
    "fig.add_trace(go.Bar(\n",
    "    x = x1,\n",
    "\n",
    "y = y1,\n",
    "           text=y1,\n",
    "            textposition='auto',\n",
    "           marker={\"color\": '#73C6B6'},\n",
    "           name=\"Depósitos Garantizados\")#,\n",
    "#           secondary_y=False,\n",
    ")\n",
    "\n",
    "fig.add_trace(go.Scatter(\n",
    "    x = x1, \n",
    "y = y3,\n",
    "           text=y3,\n",
    "           textposition='top center',\n",
    "           mode='lines+markers', #+text',\n",
    "          name=\"Recursos del FOGADE: US$203.1 millones\", \n",
    "          fillcolor = 'rgba(40, 116, 166, 0.2)',\n",
    "          stackgroup='one',\n",
    "          fill = 'tozeroy' #'tonexty' #'tozeroy'\n",
    "\n",
    ")#,\n",
    "#           secondary_y=True,\n",
    "\n",
    "           )\n",
    "\n",
    "fig.add_trace(go.Scatter(\n",
    "    x = x1, \n",
    "y = y2,\n",
    "           text=y2,\n",
    "           textposition='top center',\n",
    "           marker={\"color\": '#6C3483'},\n",
    "           mode='lines+markers+text',\n",
    "          name=\"Superavit-Déficit\"\n",
    "\n",
    ")#,\n",
    "#           secondary_y=True,\n",
    "\n",
    "           )\n",
    "\n",
    "\n",
    "\n",
    "\n",
    "#fig['layout']['yaxis2'].update(title='', range=[-20, 22], autorange=False)\n",
    "#fig['layout']['yaxis2']['showgrid'] = False\n",
    "\n",
    "\n",
    "fig.update_layout(barmode='stack', xaxis_type='category', legend_orientation=\"v\",\n",
    "                   title='<b></b><b>Cobertura de Depósitos por Institución</b><br><i>Saldo en millones de dólares</i><br><i>30 de Junio 2020</i>',\n",
    "                  #\"\",\n",
    "                  paper_bgcolor='rgb(206, 220, 227)',\n",
    "                  plot_bgcolor='rgb(206, 220, 227)',\n",
    "                  font=dict(\n",
    "        family=\"Courier New, monospace\",\n",
    "        size=15,\n",
    "        color=\"#000000\"\n",
    "        ),\n",
    "       annotations=[\n",
    "        dict(\n",
    "            x= 1, #0.5,\n",
    "            y= -0.18, #-0.15,\n",
    "            showarrow=False,\n",
    "            text=\"Fuente: FOGADE\",\n",
    "            xref=\"paper\",\n",
    "            yref=\"paper\")],\n",
    "\n",
    "            autosize=False,\n",
    "            width=1200,\n",
    "            height=600,\n",
    "\n",
    "        legend=dict(\n",
    "        x=0.6,\n",
    "        y=1)          \n",
    "    )\n",
    "\n",
    "#plot(fig, auto_open=True)\n",
    "import plotly.offline\n",
    "import plotly.graph_objs as go\n",
    "\n",
    "plotly.offline.plot(fig, \n",
    "                    image_width='1200',\n",
    "                   image_height='600',\n",
    "                     image='svg', image_filename='test') "
   ]
  },
  {
   "cell_type": "code",
   "execution_count": null,
   "metadata": {
    "colab": {
     "base_uri": "https://localhost:8080/",
     "height": 637
    },
    "colab_type": "code",
    "id": "xFtExJLOZBxa",
    "outputId": "ece00980-253f-483d-e984-9e6f9271fdd2"
   },
   "outputs": [],
   "source": [
    "fig.show()"
   ]
  },
  {
   "cell_type": "markdown",
   "metadata": {
    "colab_type": "text",
    "id": "MM6UKa8yID5P"
   },
   "source": [
    "# Participación de los Cuentahabientes Garantizados"
   ]
  },
  {
   "cell_type": "code",
   "execution_count": null,
   "metadata": {
    "colab": {
     "base_uri": "https://localhost:8080/",
     "height": 36
    },
    "colab_type": "code",
    "id": "s-sGYmnkJ6xX",
    "outputId": "f05c4b34-112c-4f69-aaa5-646ff922ec3a"
   },
   "outputs": [],
   "source": [
    "import plotly.graph_objects as go\n",
    "\n",
    "fig = go.Figure()\n",
    "\n",
    "x1 = ['BANPRO', \n",
    "         'BANCENTRO', \n",
    "         'BAC',\n",
    "         'BDF', \n",
    "         'FICOHSA', \n",
    "         'AVANZ', \n",
    "         'ATLANTIDA']\n",
    "\n",
    "y1 = [34.1,\n",
    "    35.0, \n",
    "    22.7, \n",
    "     4.2, \n",
    "     1.5,\n",
    "     2.5, \n",
    "    0.006]\n",
    "\n",
    "colors_bancos = ['#66A731', '#006837', '#E3002B', '#0075BF', '#07C0DB', '#F48028', '#A61A11']\n",
    "\n",
    "fig.add_trace(go.Pie(\n",
    "    labels = x1, \n",
    "    values = y1, \n",
    "    hole=.4, marker_colors=colors_bancos))\n",
    "\n",
    "\n",
    "fig.update_layout(barmode='stack', xaxis_type='category',\n",
    "                   title='<b></b><b>Participación de los Cuentahabientes Garantizados</b><br><i>Porcentajes</i><br><i>30 de Junio 2020</i>',\n",
    "                  paper_bgcolor='rgb(255, 255, 255)',\n",
    "                  plot_bgcolor='rgb(255, 255, 255)',\n",
    "                  font=dict(\n",
    "        family=\"Courier New, monospace\",\n",
    "        size=18,\n",
    "        color=\"#000000\"\n",
    "        ),\n",
    "       annotations=[\n",
    "        dict(\n",
    "            x= 1, #0.5,\n",
    "            y= -0.20, #-0.15,\n",
    "            showarrow=False,\n",
    "            text=\"Fuente: FOGADE\",\n",
    "            xref=\"paper\",\n",
    "            yref=\"paper\")],\n",
    "\n",
    "            autosize=False,\n",
    "            width=1200,\n",
    "            height=600\n",
    ")\n",
    "\n",
    "\n",
    "import plotly.offline\n",
    "import plotly.graph_objs as go\n",
    "\n",
    "plotly.offline.plot(fig, \n",
    "                    image_width='1200',\n",
    "                   image_height='600',\n",
    "                     image='svg', image_filename='test')    "
   ]
  },
  {
   "cell_type": "code",
   "execution_count": null,
   "metadata": {
    "colab": {
     "base_uri": "https://localhost:8080/",
     "height": 637
    },
    "colab_type": "code",
    "id": "8_FODSbMZGVc",
    "outputId": "7a031968-42b6-4134-8bd0-defa639788ae"
   },
   "outputs": [],
   "source": [
    "fig.show()"
   ]
  },
  {
   "cell_type": "markdown",
   "metadata": {
    "colab_type": "text",
    "id": "_Ni7dfoeXnSF"
   },
   "source": [
    "# Distribución de Depósitos Totales por Institución"
   ]
  },
  {
   "cell_type": "code",
   "execution_count": null,
   "metadata": {
    "colab": {
     "base_uri": "https://localhost:8080/",
     "height": 36
    },
    "colab_type": "code",
    "id": "Z86ZLaLHQXCD",
    "outputId": "a796303f-a2dc-4474-9399-8e167fc85fd2"
   },
   "outputs": [],
   "source": [
    "import plotly.graph_objects as go\n",
    "\n",
    "categorias = ['Garantizados', 'Excluidos', 'Descubiertos']\n",
    "colors_pies = ['#28B463', '#F4D03F', '#E74C3C']\n",
    "banpro =  [13, 29, 58]\n",
    "lafise =  [29, 10, 61]\n",
    "bac =     [27, 13, 60]\n",
    "bdf =     [29, 30, 41]\n",
    "ficohsa = [15, 28, 57]\n",
    "avanz =   [14, 37, 49]\n",
    "atlantida = [12, 37, 51]\n",
    "sistema = [22.2, 20.2, 57.6]\n",
    "\n",
    "\n",
    "\n",
    "trace1 = go.Pie(labels = categorias,\n",
    "                   values = banpro,\n",
    "                   domain = {'x': [0.0, 0.33], 'y': [0.0, 0.33]},\n",
    "                   hoverinfo = 'label+percent+name',\n",
    "                marker_colors=colors_pies)\n",
    " #   traces.append(trace)\n",
    "\n",
    "trace2 = go.Pie(labels = categorias,\n",
    "                   values = lafise,\n",
    "                   domain = {'x': [0.0, 0.33], 'y': [0.33, 0.66]},\n",
    "                   hoverinfo = 'label+percent+name',\n",
    "                marker_colors=colors_pies)\n",
    "\n",
    "trace3 = go.Pie(labels = categorias,\n",
    "                   values = bac,\n",
    "                   domain = {'x': [0.0, 0.33], 'y': [0.66, 1.0]},\n",
    "                   hoverinfo = 'label+percent+name',\n",
    "                marker_colors=colors_pies)\n",
    "\n",
    "trace4 = go.Pie(labels = categorias,\n",
    "                   values = bdf,\n",
    "                   domain = {'x': [0.15, 0.66], 'y': [0.0, 0.33]},\n",
    "                   hoverinfo = 'label+percent+name',\n",
    "                marker_colors=colors_pies)\n",
    "\n",
    "trace5 = go.Pie(labels = categorias,\n",
    "                   values = ficohsa,\n",
    "                   domain = {'x': [0.15, 0.66], 'y': [0.33, 0.66]},\n",
    "                   hoverinfo = 'label+percent+name',\n",
    "                marker_colors=colors_pies)\n",
    "\n",
    "trace6 = go.Pie(labels = categorias,\n",
    "                   values = avanz, ##########\n",
    "                   domain =  {'x': [0.15, 0.66], 'y': [0.66, 1.0]},\n",
    "                   hoverinfo = 'label+percent+name',\n",
    "                marker_colors=colors_pies)\n",
    "\n",
    "trace7 = go.Pie(labels = categorias,\n",
    "                   values = atlantida,\n",
    "                   domain = {'x': [0.66, 0.88], 'y': [0.0, 0.33]},\n",
    "                   hoverinfo = 'label+percent+name',\n",
    "                marker_colors=colors_pies)\n",
    "\n",
    "trace8 = go.Pie(labels = categorias,\n",
    "                   values = sistema,\n",
    "                   domain = {'x': [0.33, 1.0], 'y': [0.33, 1.0]},\n",
    "                   hoverinfo = 'label+percent+name',\n",
    "                marker_colors=colors_pies)\n",
    "\n",
    "layout = go.Layout(legend_orientation=\"h\",\n",
    "             title='<b></b><b>Distribución de los Depósitos Totales por Institución</b><br><i>Porcentajes</i><br><i>30 de Junio 2020</i>',\n",
    "                  paper_bgcolor='rgb(255, 255, 255)',\n",
    "                  plot_bgcolor='rgb(255, 255, 255)',\n",
    "                  font=dict(\n",
    "        family=\"Courier New, monospace\",\n",
    "        size=14,\n",
    "        color=\"#000000\"\n",
    "        ),\n",
    "       annotations=[\n",
    "        dict(\n",
    "            x= 1, #0.5,\n",
    "            y= -0.20, #-0.15,\n",
    "            showarrow=False,\n",
    "            text=\"Fuente: FOGADE\",\n",
    "            xref=\"paper\",\n",
    "            yref=\"paper\")],\n",
    "\n",
    "            autosize=False,\n",
    "            width=1200,\n",
    "            height=600\n",
    ")\n",
    "\n",
    "fig = go.Figure(data = [trace1, trace2, trace3, trace4, trace5, trace6, trace7, trace8], layout = layout)\n",
    "\n",
    "#plot(fig, auto_open=True)\n",
    "import plotly.offline\n",
    "import plotly.graph_objs as go\n",
    "\n",
    "plotly.offline.plot(fig, \n",
    "                    image_width='1200',\n",
    "                   image_height='600',\n",
    "                     image='svg', image_filename='test') "
   ]
  },
  {
   "cell_type": "code",
   "execution_count": null,
   "metadata": {
    "colab": {
     "base_uri": "https://localhost:8080/",
     "height": 637
    },
    "colab_type": "code",
    "id": "EVxS6rmnZKD0",
    "outputId": "3de7303b-da05-461c-ab40-9fe83614daa4"
   },
   "outputs": [],
   "source": [
    "fig.show()"
   ]
  },
  {
   "cell_type": "markdown",
   "metadata": {
    "colab_type": "text",
    "id": "p2GgEa-HmCyI"
   },
   "source": [
    "# Ditribución de los Depósitos Totales por Institución "
   ]
  },
  {
   "cell_type": "code",
   "execution_count": null,
   "metadata": {
    "colab": {
     "base_uri": "https://localhost:8080/",
     "height": 36
    },
    "colab_type": "code",
    "id": "b3IHtIC_nuln",
    "outputId": "8bdb368b-c2a9-44e4-e14b-6472c655e829"
   },
   "outputs": [],
   "source": [
    "import plotly.graph_objects as go\n",
    "from plotly.subplots import make_subplots\n",
    "\n",
    "\n",
    "#fig = go.Figure()\n",
    "fig = make_subplots(specs=[[{\"secondary_y\": True}]])\n",
    "\n",
    "x1 = ['SISTEMA',\n",
    "      'BANPRO', \n",
    "      'LAFISE',\n",
    "      'BAC',\n",
    "      'BDF',\n",
    "      'FICOHSA',\n",
    "      'AVANZ',\n",
    "      'ATLANTIDA']\n",
    "\n",
    "y1 = [22.2,\n",
    "      13,  #####Garantizados\n",
    "      29,\n",
    "      27,\n",
    "      29,\n",
    "      15, #Ficohsa\n",
    "      14,\n",
    "      12]\n",
    "\n",
    "y2 = [20.2,\n",
    "      29,  #####Excluidos\n",
    "      10,\n",
    "      13,\n",
    "      30,\n",
    "      28,  #Ficohsa\n",
    "      37,\n",
    "      37]\n",
    "\n",
    "y3 = [57.6,\n",
    "      58,  #####Descubiertos\n",
    "      61,\n",
    "      60,\n",
    "      41,\n",
    "      57,   #Ficohsa\n",
    "      49,\n",
    "      51]\n",
    "\n",
    "texto1 = [935,  174, 299, 297,  99,  48, 17, 0.27]\n",
    "texto2 = [847,  370,  99, 144, 101,  86, 45, 0.84]\n",
    "texto3 = [2422, 753, 616, 675, 138, 178, 59, 1.17]\n",
    "\n",
    "fig.add_trace(go.Bar(\n",
    "    x = x1,\n",
    "  ##'#28B463', '#F4D03F', '#E74C3C'\n",
    "y = y1,\n",
    "           text=texto1,\n",
    "           textposition='auto',\n",
    "           texttemplate = \"%{text}\",\n",
    "           marker={\"color\": '#28B463'},\n",
    "           name=\"Garantizados\")\n",
    ")\n",
    "\n",
    "fig.add_trace(go.Bar(\n",
    "    x = x1, \n",
    "y = y2,\n",
    "           text=texto2,\n",
    "           textposition='auto',\n",
    "           texttemplate = \"%{text}\",\n",
    "           marker={\"color\": '#F4D03F'},\n",
    "           name=\"Excluidos\")\n",
    "\n",
    "           )\n",
    "\n",
    "fig.add_trace(go.Bar(\n",
    "    x = x1, \n",
    "y = y3,\n",
    "           text=texto3,\n",
    "           textposition='auto',\n",
    "           texttemplate = \"%{text}\",\n",
    "           marker={\"color\": '#E74C3C'},\n",
    "           name=\"Descubiertos\")\n",
    "\n",
    "           )\n",
    "\n",
    "\n",
    "#fig['layout']['yaxis2'].update(title='', range=[-20, 22], autorange=False)\n",
    "#fig['layout']['yaxis2']['showgrid'] = False\n",
    "\n",
    "\n",
    "fig.update_layout(barmode='stack',  xaxis_type='category', legend_orientation=\"v\",\n",
    "                   title='<b></b><b>Distribución de los Depósitos Totales por Institución</b><br><i>Saldos en millones de dólares</i><br><i>30 de Junio 2020</i>',\n",
    "                  #\"\",\n",
    "                  paper_bgcolor='rgb(206, 220, 227)',\n",
    "                  plot_bgcolor='rgb(206, 220, 227)',\n",
    "                  font=dict(\n",
    "        family=\"Courier New, monospace\",\n",
    "        size=14,\n",
    "        color=\"#000000\"\n",
    "        ),\n",
    "       annotations=[\n",
    "        dict(\n",
    "            x= 1.0, #0.9,\n",
    "            y= -0.15, #-0.15,\n",
    "            showarrow=False,\n",
    "            text=\"Fuente: FOGADE\",\n",
    "            xref=\"paper\",\n",
    "            yref=\"paper\")],\n",
    "\n",
    "            autosize=False,\n",
    "            width=1200,\n",
    "            height=600          \n",
    "    )\n",
    "fig.update_traces( textfont_size=17) #textposition='inside',\n",
    "\n",
    "#plot(fig, auto_open=True)\n",
    "import plotly.offline\n",
    "import plotly.graph_objs as go\n",
    "\n",
    "plotly.offline.plot(fig, \n",
    "                    image_width='1200',\n",
    "                   image_height='600',\n",
    "                     image='svg', image_filename='test')     "
   ]
  },
  {
   "cell_type": "code",
   "execution_count": null,
   "metadata": {
    "colab": {
     "base_uri": "https://localhost:8080/",
     "height": 637
    },
    "colab_type": "code",
    "id": "AwUxWcs-ZZyb",
    "outputId": "21e8e485-e16d-47b4-cf99-9dfe8bf04fe1"
   },
   "outputs": [],
   "source": [
    "fig.show()"
   ]
  },
  {
   "cell_type": "markdown",
   "metadata": {
    "colab_type": "text",
    "id": "V8G2OI4oHsrP"
   },
   "source": [
    "# Cobertura de Cuentahabientes por Institución"
   ]
  },
  {
   "cell_type": "code",
   "execution_count": null,
   "metadata": {
    "colab": {
     "base_uri": "https://localhost:8080/",
     "height": 36
    },
    "colab_type": "code",
    "id": "4fRK5m51Hr7X",
    "outputId": "04be8422-c603-4239-9508-4077ab97e036"
   },
   "outputs": [],
   "source": [
    "import plotly.graph_objects as go\n",
    "from plotly.subplots import make_subplots\n",
    "\n",
    "\n",
    "#fig = go.Figure()\n",
    "fig = make_subplots(specs=[[{\"secondary_y\": True}]])\n",
    "\n",
    "x1 = [\n",
    "      'BANPRO', \n",
    "      'LAFISE',\n",
    "      'BAC',\n",
    "      'BDF',\n",
    "      'FICOHSA',\n",
    "      'AVANZ',\n",
    "      'ATLANTIDA']\n",
    "\n",
    "y1 = [\n",
    "      99.1,  #####Garantizados\n",
    "      99.8,\n",
    "      99.6,\n",
    "      99.6,\n",
    "      99.3, #Ficohsa\n",
    "      99.3,\n",
    "      82.2]\n",
    "\n",
    "y2 = [\n",
    "      0.9,  #####Excluidos\n",
    "      0.2,\n",
    "      0.4,\n",
    "      0.4,\n",
    "      0.7,  #Ficohsa\n",
    "      0.7,\n",
    "      17.8]\n",
    "\n",
    "\n",
    "fig.add_trace(go.Bar(orientation='h',\n",
    "    x = y1,\n",
    "  ##'#28B463', '#F4D03F', '#E74C3C'\n",
    "y = x1,\n",
    "           text=y1,\n",
    "           textposition='auto',\n",
    "           texttemplate = \"%{text}%\",\n",
    "           marker={\"color\": '#2E86C1'},\n",
    "           name=\"Garantizados\")\n",
    ")\n",
    "\n",
    "fig.add_trace(go.Bar(orientation='h',\n",
    "    x = y2, \n",
    "y = x1,\n",
    "           text=y2,\n",
    "           textposition='auto',\n",
    "           texttemplate = \"%{text}%\",\n",
    "           marker={\"color\": '#48C9B0'},\n",
    "           name=\"Excluidos\")\n",
    "\n",
    "           )\n",
    "\n",
    "\n",
    "#fig['layout']['yaxis2'].update(title='', range=[-20, 22], autorange=False)\n",
    "#fig['layout']['yaxis2']['showgrid'] = False\n",
    "\n",
    "\n",
    "fig.update_layout(barmode='stack', legend_orientation=\"v\",  \n",
    "                   title='<b></b><b>Cobertura de Cuentahabientes por Institución</b><br><i>Participación</i><br><i>30 de Junio 2020</i>',\n",
    "                  #\"\",\n",
    "                  paper_bgcolor='rgb(206, 220, 227)',\n",
    "                  plot_bgcolor='rgb(206, 220, 227)',\n",
    "                  font=dict(\n",
    "        family=\"Courier New, monospace\",\n",
    "        size=14,\n",
    "        color=\"#000000\"\n",
    "        ),\n",
    "       annotations=[\n",
    "        dict(\n",
    "            x= 1.0, #0.9,\n",
    "            y= -0.15, #-0.15,\n",
    "            showarrow=False,\n",
    "            text=\"Fuente: FOGADE\",\n",
    "            xref=\"paper\",\n",
    "            yref=\"paper\")],\n",
    "\n",
    "            autosize=False,\n",
    "            width=1200,\n",
    "            height=600          \n",
    "    )\n",
    "\n",
    "fig.update_traces( textfont_size=17) #textposition='inside',\n",
    "\n",
    "\n",
    "#plot(fig, auto_open=True)\n",
    "import plotly.offline\n",
    "import plotly.graph_objs as go\n",
    "\n",
    "plotly.offline.plot(fig, \n",
    "                    image_width='1200',\n",
    "                   image_height='600',\n",
    "                     image='svg', image_filename='test')     "
   ]
  },
  {
   "cell_type": "code",
   "execution_count": null,
   "metadata": {
    "colab": {
     "base_uri": "https://localhost:8080/",
     "height": 637
    },
    "colab_type": "code",
    "id": "9AjCPX8jZdWG",
    "outputId": "8a418636-82c7-4897-efc5-31f75969dbd0"
   },
   "outputs": [],
   "source": [
    "fig.show()"
   ]
  },
  {
   "cell_type": "markdown",
   "metadata": {
    "colab_type": "text",
    "id": "rgb9EiFZ20JX"
   },
   "source": [
    "# Cuentahabientes Garantizados por FOGADE"
   ]
  },
  {
   "cell_type": "code",
   "execution_count": null,
   "metadata": {
    "colab": {
     "base_uri": "https://localhost:8080/",
     "height": 36
    },
    "colab_type": "code",
    "id": "JI6bl5582x3S",
    "outputId": "a658ad85-9586-4d81-b408-efbb4fe9ebda"
   },
   "outputs": [],
   "source": [
    "import plotly.graph_objects as go\n",
    "\n",
    "fig = go.Figure()\n",
    "\n",
    "x1 = [  \"2015\", \n",
    "        \"2016\", \n",
    "        \"2017\",\n",
    "        \"2018\", \n",
    "        \"2019\",\n",
    "       'Mar-20',\n",
    "#       'Abr-20',\n",
    "#       'May-20',\n",
    "        'Jun-20']\n",
    "\n",
    "y1 = [ 91.1, \n",
    "    90.8, \n",
    "    92.8,\n",
    "    92.6, \n",
    "    93.0,\n",
    "    92.9,\n",
    "#    92.9,\n",
    "#    92.7,\n",
    "    92.8]\n",
    "\n",
    "# Offset the line length by the marker size to avoid overlapping\n",
    "#marker_offset = 0.04\n",
    "\n",
    "#def offset_signal(signal, marker_offset):\n",
    "#    if abs(signal) <= marker_offset:\n",
    "#        return 0\n",
    "#    return signal - marker_offset if signal > 0 else signal + marker_offset\n",
    "\n",
    "\n",
    "fig.add_trace(go.Scatter(\n",
    "    x = x1, \n",
    "y = y1,\n",
    "           text=y1,\n",
    "           textposition='top center',\n",
    "           texttemplate = \"%{text}%\",\n",
    "           mode='lines+markers+text', marker_symbol='diamond',\n",
    "          name=\"Crecimiento Interanual\",\n",
    "           marker=dict(size=40, color = '#E74C3C',\n",
    "                              line=dict(width=1,\n",
    "                                        color='#E74C3C'))\n",
    "\n",
    "))\n",
    "\n",
    "\n",
    "fig.update_yaxes(showticklabels=False)\n",
    "###fig['layout']['yaxis1'].update(title='', range=[14.3, 24], autorange=False)\n",
    "#fig['layout']['yaxis2']['showgrid'] = False\n",
    "\n",
    "\n",
    "fig.update_layout(xaxis_type='category',  #legend_orientation=\"h\",\n",
    "                   title='<b></b><b>Cuentahabientes Garantizados por FOGADE</b><br><i>(Como porcentaje del total de los cuentahabientes con Saldos hasta US$10,000.00)</i><br><i>30 de Junio 2020</i>',\n",
    "                  #\"\",\n",
    "                  paper_bgcolor='rgb(255, 255, 255)',\n",
    "                  plot_bgcolor='rgb(255, 255, 255)',\n",
    "                  font=dict(\n",
    "        family=\"Courier New, monospace\",\n",
    "        size=15,\n",
    "        color=\"#000000\"\n",
    "        ),\n",
    "       annotations=[\n",
    "        dict(\n",
    "            x= 1, #0.5,\n",
    "            y= -0.20, #-0.15,\n",
    "            showarrow=False,\n",
    "            text=\"Fuente: FOGADE\",\n",
    "            xref=\"paper\",\n",
    "            yref=\"paper\")],\n",
    "\n",
    "            autosize=False,\n",
    "            width=1200,\n",
    "            height=600\n",
    ")\n",
    "\n",
    "fig.update_traces( textfont_size=17) #textposition='inside',\n",
    "\n",
    "fig.update_yaxes(showgrid=True, gridwidth=1, gridcolor='#AED6F1')\n",
    "\n",
    "\n",
    "#plot(fig, auto_open=True)\n",
    "import plotly.offline\n",
    "import plotly.graph_objs as go\n",
    "\n",
    "plotly.offline.plot(fig, \n",
    "                    image_width='1200',\n",
    "                   image_height='600',\n",
    "                     image='svg', image_filename='test') "
   ]
  },
  {
   "cell_type": "code",
   "execution_count": null,
   "metadata": {
    "colab": {
     "base_uri": "https://localhost:8080/",
     "height": 637
    },
    "colab_type": "code",
    "id": "OEJTCFZSZvYD",
    "outputId": "0348b018-f1f1-4479-ac9a-dddc7ccc7dd9"
   },
   "outputs": [],
   "source": [
    "fig.show()"
   ]
  },
  {
   "cell_type": "markdown",
   "metadata": {
    "colab_type": "text",
    "id": "VhlATSjKQUsO"
   },
   "source": [
    "# Cuentahabientes Garantizados por FOGADE"
   ]
  },
  {
   "cell_type": "code",
   "execution_count": null,
   "metadata": {
    "colab": {
     "base_uri": "https://localhost:8080/",
     "height": 36
    },
    "colab_type": "code",
    "id": "f8gOuOVkQgmw",
    "outputId": "8438fccd-b792-4dbd-ec91-9986dc2ee4d4"
   },
   "outputs": [],
   "source": [
    "import plotly.graph_objects as go\n",
    "\n",
    "fig = go.Figure()\n",
    "\n",
    "x1 = [  '2013',\n",
    "        '2014',\n",
    "        \"2015\", \n",
    "        \"2016\", \n",
    "        \"2017\",\n",
    "        \"2018\", \n",
    "        \"2019\",\n",
    "       'Mar-20',\n",
    "#       'Abr-20',\n",
    "#       'May-20',\n",
    "        'Jun-20']\n",
    "\n",
    "y1 = [ 99.3, \n",
    "    99.3, \n",
    "    99.3,\n",
    "    99.4, \n",
    "    99.5,\n",
    "    99.5,\n",
    "    99.5,\n",
    "    99.5,\n",
    "#    99.5,\n",
    "#    99.5,\n",
    "    99.5]\n",
    "\n",
    "# Offset the line length by the marker size to avoid overlapping\n",
    "#marker_offset = 0.04\n",
    "\n",
    "#def offset_signal(signal, marker_offset):\n",
    "#    if abs(signal) <= marker_offset:\n",
    "#        return 0\n",
    "#    return signal - marker_offset if signal > 0 else signal + marker_offset\n",
    "\n",
    "\n",
    "fig.add_trace(go.Scatter(\n",
    "    x = x1, \n",
    "y = y1,\n",
    "           text=y1,\n",
    "           textposition='top center',\n",
    "           texttemplate = \"%{text}%\",\n",
    "           mode='lines+markers+text', marker_symbol='square',\n",
    "          name=\"Crecimiento Interanual\",\n",
    "           marker=dict(size=15, color = '#E74C3C',\n",
    "                              line=dict(width=1,\n",
    "                                        color='#E74C3C'))\n",
    "\n",
    "))\n",
    "\n",
    "\n",
    "fig.update_yaxes(showticklabels=False)\n",
    "###fig['layout']['yaxis1'].update(title='', range=[14.3, 24], autorange=False)\n",
    "#fig['layout']['yaxis2']['showgrid'] = False\n",
    "\n",
    "\n",
    "fig.update_layout(xaxis_type='category',  #legend_orientation=\"h\",\n",
    "                   title='<b></b><b>Cuentahabientes Garantizados por FOGADE</b><br><i>(Como porcentaje del total de los cuentahabientes)</i><br><i>30 de Junio 2020</i>',\n",
    "                  #\"\",\n",
    "                  paper_bgcolor='rgb(255, 255, 255)',\n",
    "                  plot_bgcolor='rgb(255, 255, 255)',\n",
    "                  font=dict(\n",
    "        family=\"Courier New, monospace\",\n",
    "        size=15,\n",
    "        color=\"#000000\"\n",
    "        ),\n",
    "       annotations=[\n",
    "        dict(\n",
    "            x= 1, #0.5,\n",
    "            y= -0.20, #-0.15,\n",
    "            showarrow=False,\n",
    "            text=\"Fuente: FOGADE\",\n",
    "            xref=\"paper\",\n",
    "            yref=\"paper\")],\n",
    "\n",
    "            autosize=False,\n",
    "            width=1200,\n",
    "            height=600\n",
    ")\n",
    "\n",
    "fig.update_yaxes(showgrid=True, gridwidth=1, gridcolor='#AED6F1')\n",
    "fig.update_traces( textfont_size=17) #textposition='inside',\n",
    "\n",
    "\n",
    "#plot(fig, auto_open=True)\n",
    "import plotly.offline\n",
    "import plotly.graph_objs as go\n",
    "\n",
    "plotly.offline.plot(fig, \n",
    "                    image_width='1200',\n",
    "                   image_height='600',\n",
    "                     image='svg', image_filename='test')"
   ]
  },
  {
   "cell_type": "code",
   "execution_count": null,
   "metadata": {
    "colab": {
     "base_uri": "https://localhost:8080/",
     "height": 637
    },
    "colab_type": "code",
    "id": "_SlMAAWwZ6yP",
    "outputId": "766b067e-5fd6-4040-bd1f-1e77a07e1fd8"
   },
   "outputs": [],
   "source": [
    "fig.show()"
   ]
  },
  {
   "cell_type": "markdown",
   "metadata": {
    "colab_type": "text",
    "id": "and5PI6eR4mD"
   },
   "source": [
    "# Recursos del FOGADE / Depósitos del Público"
   ]
  },
  {
   "cell_type": "code",
   "execution_count": null,
   "metadata": {
    "colab": {
     "base_uri": "https://localhost:8080/",
     "height": 36
    },
    "colab_type": "code",
    "id": "ez8-isCBR23O",
    "outputId": "725aa692-3bb7-4d92-a070-5818adb16e33"
   },
   "outputs": [],
   "source": [
    "import plotly.graph_objects as go\n",
    "import numpy as np\n",
    "#from plotly.subplots import make_subplots\n",
    "\n",
    "fig = go.Figure()\n",
    "#fig = make_subplots(specs=[[{\"secondary_y\": True}]])\n",
    "\n",
    "x1 = ['2013',\n",
    "        '2014',\n",
    "        \"2015\", \n",
    "        \"2016\", \n",
    "        \"2017\",\n",
    "        \"2018\", \n",
    "        \"2019\",\n",
    "        'Mar-20',\n",
    "#       'Abr-20',\n",
    "#       'May-20',\n",
    "        'Jun-20']\n",
    "\n",
    "y1 = [3.05,  \n",
    "      2.95,  \n",
    "      2.91,  \n",
    "      3.06,  \n",
    "      3.16,   \n",
    "      4.58,   \n",
    "      5.44,\n",
    "      5.35,\n",
    "#      5.33,\n",
    "#      5.30,\n",
    "      5.28]  \n",
    "\n",
    "\n",
    "fig.add_trace(go.Scatter(\n",
    "    x = x1, \n",
    "y = y1,\n",
    "           text=y1,\n",
    "           textposition='top left',\n",
    "           mode='text+lines+markers', #+text',\n",
    "           texttemplate = \"%{text}%\",\n",
    "           name=\"Recursos del FOGADE: US$202.3\", \n",
    "           fillcolor = 'rgba(40, 180, 99, 0.2)',\n",
    "           stackgroup='one',\n",
    "           fill = 'tozeroy' #'tonexty' #'tozeroy'\n",
    "\n",
    ")#,\n",
    "#           secondary_y=True,\n",
    "\n",
    "           )\n",
    "\n",
    "fig.update_yaxes(showticklabels=False)\n",
    "#fig['layout']['yaxis2'].update(title='', range=[-20, 22], autorange=False)\n",
    "#fig['layout']['yaxis2']['showgrid'] = False\n",
    "\n",
    "\n",
    "fig.update_layout(barmode='stack', xaxis_type='category', legend_orientation=\"v\",\n",
    "                   title='<b></b><b>Recursos del FOGADE / Depósitos del Público</b><br><i>Porcentajes</i><br><i>30 de Junio 2020</i>',\n",
    "                  #\"\",\n",
    "                  paper_bgcolor='rgb(206, 220, 227)',\n",
    "                  plot_bgcolor='rgb(206, 220, 227)',\n",
    "                  font=dict(\n",
    "        family=\"Courier New, monospace\",\n",
    "        size=15,\n",
    "        color=\"#000000\"\n",
    "        ),\n",
    "       annotations=[\n",
    "        dict(\n",
    "            x= 1, #0.5,\n",
    "            y= -0.18, #-0.15,\n",
    "            showarrow=False,\n",
    "            text=\"Fuente: FOGADE\",\n",
    "            xref=\"paper\",\n",
    "            yref=\"paper\")],\n",
    "\n",
    "            autosize=False,\n",
    "            width=1200,\n",
    "            height=600,\n",
    "\n",
    "        legend=dict(\n",
    "        x=0.6,\n",
    "        y=1)          \n",
    "    )\n",
    "\n",
    "fig.update_traces( textfont_size=17) #textposition='inside',\n",
    "\n",
    "\n",
    "#plot(fig, auto_open=True)\n",
    "import plotly.offline\n",
    "import plotly.graph_objs as go\n",
    "\n",
    "plotly.offline.plot(fig, \n",
    "                    image_width='1200',\n",
    "                   image_height='600',\n",
    "                     image='svg', image_filename='test') "
   ]
  },
  {
   "cell_type": "code",
   "execution_count": null,
   "metadata": {
    "colab": {
     "base_uri": "https://localhost:8080/",
     "height": 637
    },
    "colab_type": "code",
    "id": "YtGawn02aXiT",
    "outputId": "2e02a04a-d851-4d98-94c2-3b10f8639554"
   },
   "outputs": [],
   "source": [
    "fig.show()"
   ]
  },
  {
   "cell_type": "markdown",
   "metadata": {
    "colab_type": "text",
    "id": "xibEiAPbq0cG"
   },
   "source": [
    "# Tipos de Monedas por Depósitos y Depositantes Asegurados"
   ]
  },
  {
   "cell_type": "code",
   "execution_count": null,
   "metadata": {
    "colab": {
     "base_uri": "https://localhost:8080/",
     "height": 36
    },
    "colab_type": "code",
    "id": "7UoJINb6xxSj",
    "outputId": "7cd284a1-ad9c-4756-b6ef-6921b565f0f9"
   },
   "outputs": [],
   "source": [
    "import plotly.graph_objects as go\n",
    "from plotly.subplots import make_subplots\n",
    "\n",
    "\n",
    "fig = make_subplots(rows=2, cols=2, \n",
    "                    specs=[[{'type':'domain'}, {'type':'domain'}],[{'type':'domain'}, {'type':'domain'}]])#, \n",
    "#                    subplot_titles=(\"Diciembre 2019\", \"Diciembre 2019\", \"Mayo 2020\", \"Mayo 2020\"))\n",
    "\n",
    "meses =  [\"Diciembre 2019\", \"Junio 2020\"]\n",
    "categorias1 = ['Moneda Nacional', 'Moneda Extranjera']\n",
    "colors_pies1 = ['#2ECC71', '#5DADE2']\n",
    "\n",
    "values1 = [62.3, 37.7] #Diciembre 2019\n",
    "values2 = [62.3, 37.7] #Depositantes Cubiertos\n",
    "\n",
    "values3 = [26.5, 73.5] #Diciembre 2019\n",
    "values4 = [25.6, 74.4] #Depósitos Cubiertos\n",
    "\n",
    "fig.add_trace(go.Pie(labels = categorias1,\n",
    "                   values = values1, ##########\n",
    "                   #domain =  {'x': [0.15, 0.66], 'y': [0.66, 1.0]},\n",
    "                #   hoverinfo = 'label+percent+name',\n",
    "                name=meses[0],\n",
    "                  marker_colors=colors_pies1\n",
    "                ),\n",
    "              1, 1)\n",
    "\n",
    "fig.add_trace(go.Pie(labels = categorias1,\n",
    "                   values = values3, ##########\n",
    "                  # domain =  {'x': [0.15, 0.66], 'y': [0.66, 1.0]},\n",
    "          #         hoverinfo = 'label+percent+name',\n",
    "                marker_colors=colors_pies1,\n",
    "                name=meses[0]\n",
    "                ),\n",
    "              1, 2)\n",
    "\n",
    "fig.add_trace(go.Pie(labels = categorias1,\n",
    "                   values = values2, ##########\n",
    "                 #  domain =  {'x': [0.15, 0.66], 'y': [0.66, 1.0]},\n",
    "            #       hoverinfo = 'label+percent+name',\n",
    "                marker_colors=colors_pies1,\n",
    "                name=meses[1]\n",
    "                ),\n",
    "              2, 1)\n",
    "\n",
    "\n",
    "fig.add_trace(go.Pie(labels = categorias1,\n",
    "                   values = values4, ##########\n",
    "                  # domain =  {'x': [0.15, 0.66], 'y': [0.66, 1.0]},\n",
    "            #       hoverinfo = 'label+percent+name',\n",
    "                marker_colors=colors_pies1,\n",
    "                name=meses[1]\n",
    "                ),\n",
    "              2, 2)\n",
    "\n",
    "fig.update_traces(hole=.0, hoverinfo=\"label+percent+name\")\n",
    "\n",
    "fig.update_layout( #title='<b></b><b>Recursos del FOGADE / Depósitos del Público</b><br><i>Porcentajes</i><br><i>30 de Abril 2020</i>',\n",
    "                  paper_bgcolor='rgb(206, 220, 227)',\n",
    "                  plot_bgcolor='rgb(206, 220, 227)',\n",
    " #                 font=dict(\n",
    " #       family=\"Courier New, monospace\",\n",
    " #       size=15,\n",
    " #       color=\"#000000\"\n",
    " #       ),\n",
    "       annotations=[\n",
    "        dict(\n",
    "            x= 0.5, #0.5,\n",
    "            y= -0.18, #-0.15,\n",
    "            showarrow=False,\n",
    "            text=\"Fuente: FOGADE\",\n",
    "            xref=\"paper\",\n",
    "            yref=\"paper\"),\n",
    "            \n",
    "            dict(text='Depositantes Garantizados por Tipos de Moneda', x=0.00, y=1.2, font_size=22, showarrow=False),\n",
    "            dict(text='Depositos Garantizados por Tipos de Moneda', x=0.97, y=1.2, font_size=22, showarrow=False),\n",
    "             dict(text=meses[0], x=0.17, y=1.1, font_size=20, showarrow=False),\n",
    "                 dict(text=meses[0], x=0.84, y=1.1, font_size=20, showarrow=False),\n",
    "                   dict(text=meses[1], x=0.18, y=0.5, font_size=20, showarrow=False),\n",
    "                   dict(text=meses[1], x=0.82, y=0.5, font_size=20, showarrow=False)\n",
    "],\n",
    "\n",
    "            autosize=False,\n",
    "            width=1200,\n",
    "            height=600,\n",
    "\n",
    "\n",
    "        legend=dict(\n",
    "        x=0.4,\n",
    "        y=0.5)          \n",
    "    )\n",
    "\n",
    "#plot(fig, auto_open=True)\n",
    "import plotly.offline\n",
    "import plotly.graph_objs as go\n",
    "\n",
    "plotly.offline.plot(fig, \n",
    "                    image_width='1200',\n",
    "                   image_height='600',\n",
    "                     image='svg', image_filename='test')\n"
   ]
  },
  {
   "cell_type": "code",
   "execution_count": null,
   "metadata": {
    "colab": {
     "base_uri": "https://localhost:8080/",
     "height": 637
    },
    "colab_type": "code",
    "id": "CdsN4LEiabXX",
    "outputId": "5cbfdfc4-7506-450e-bf64-a8bcf03fc90a"
   },
   "outputs": [],
   "source": [
    "fig.show()"
   ]
  },
  {
   "cell_type": "markdown",
   "metadata": {
    "colab_type": "text",
    "id": "xlMsWogQKSFB"
   },
   "source": [
    "# Promedio de Depósitos Garantizados"
   ]
  },
  {
   "cell_type": "code",
   "execution_count": null,
   "metadata": {
    "colab": {
     "base_uri": "https://localhost:8080/",
     "height": 36
    },
    "colab_type": "code",
    "id": "3e4WLD2FKh--",
    "outputId": "7bb81a8e-8cd2-4490-c7e3-96e6b04321da"
   },
   "outputs": [],
   "source": [
    "import plotly.graph_objects as go\n",
    "from plotly.subplots import make_subplots\n",
    "\n",
    "\n",
    "#fig = go.Figure()\n",
    "fig = make_subplots(specs=[[{\"secondary_y\": True}]])\n",
    "\n",
    "colors_bancos = ['#66A731', '#006837', '#E3002B', '#0075BF', '#07C0DB', '#F48028', '#A61A11', '#979A9A']\n",
    "\n",
    "\n",
    "x1 = [\n",
    "      'BANPRO', \n",
    "      'LAFISE',\n",
    "      'BAC',\n",
    "      'BDF',\n",
    "      'FICOHSA',\n",
    "      'AVANZ',\n",
    "      'ATLANTIDA',\n",
    "      'SISTEMA']\n",
    "\n",
    "y1 = [336, \n",
    "       566, \n",
    "      865, \n",
    "     1562, \n",
    "     2101, \n",
    "     455, \n",
    "     2765, \n",
    "     618]\n",
    "\n",
    "\n",
    "\n",
    "fig.add_trace(go.Bar(orientation='h',\n",
    "    x = y1,\n",
    "  ##'#28B463', '#F4D03F', '#E74C3C'\n",
    "y = x1,\n",
    "           text=y1,\n",
    "           textposition='auto',\n",
    "           texttemplate = \"%{text}\",\n",
    "           marker_color=colors_bancos,\n",
    "           name=\"Garantizados\")\n",
    ")\n",
    "\n",
    "\n",
    "fig.update_xaxes(showticklabels=False)\n",
    "#fig['layout']['yaxis2'].update(title='', range=[-20, 22], autorange=False)\n",
    "#fig['layout']['yaxis2']['showgrid'] = False\n",
    "\n",
    "\n",
    "fig.update_layout(barmode='stack', legend_orientation=\"h\",   xaxis_type='linear',\n",
    "                   title='<b></b><b>Promedio de Depósitos Garantizados</b><br><i>Dólares</i><br><i>30 de Junio 2020</i>',\n",
    "                  #\"\",\n",
    "                  paper_bgcolor='rgb(255, 255, 255)',\n",
    "                  plot_bgcolor='rgb(255, 255, 255)',\n",
    "                  font=dict(\n",
    "        family=\"Courier New, monospace\",\n",
    "        size=14,\n",
    "        color=\"#000000\"\n",
    "        ),\n",
    "       annotations=[\n",
    "        dict(\n",
    "            x= 1.0, #0.9,\n",
    "            y= -0.15, #-0.15,\n",
    "            showarrow=False,\n",
    "            text=\"Fuente: FOGADE\",\n",
    "            xref=\"paper\",\n",
    "            yref=\"paper\")],\n",
    "\n",
    "            autosize=False,\n",
    "            width=1200,\n",
    "            height=600          \n",
    "    )\n",
    "\n",
    "fig.update_traces( textfont_size=17) #textposition='inside',\n",
    "\n",
    "\n",
    "#plot(fig, auto_open=True)\n",
    "import plotly.offline\n",
    "import plotly.graph_objs as go\n",
    "\n",
    "plotly.offline.plot(fig, \n",
    "                    image_width='1200',\n",
    "                   image_height='600',\n",
    "                     image='svg', image_filename='test')     "
   ]
  },
  {
   "cell_type": "code",
   "execution_count": null,
   "metadata": {
    "colab": {
     "base_uri": "https://localhost:8080/",
     "height": 637
    },
    "colab_type": "code",
    "id": "ZqotosUkvspT",
    "outputId": "0aa9f038-3df3-4c97-8462-1988b7e44009"
   },
   "outputs": [],
   "source": [
    "fig.show()"
   ]
  },
  {
   "cell_type": "markdown",
   "metadata": {
    "colab_type": "text",
    "id": "RcE2FB8XbKgz"
   },
   "source": [
    "# Promedio de Depósitos Excluidos"
   ]
  },
  {
   "cell_type": "code",
   "execution_count": null,
   "metadata": {
    "colab": {
     "base_uri": "https://localhost:8080/",
     "height": 36
    },
    "colab_type": "code",
    "id": "5L3ACuijaomv",
    "outputId": "9cd52785-eba6-43d4-cfb3-646a5089061d"
   },
   "outputs": [],
   "source": [
    "import plotly.graph_objects as go\n",
    "from plotly.subplots import make_subplots\n",
    "\n",
    "\n",
    "#fig = go.Figure()\n",
    "fig = make_subplots(specs=[[{\"secondary_y\": True}]])\n",
    "\n",
    "colors_bancos = ['#66A731', '#006837', '#E3002B', '#0075BF', '#07C0DB', '#F48028', '#A61A11', '#979A9A']\n",
    "\n",
    "\n",
    "x1 = [\n",
    "      'BANPRO', \n",
    "      'LAFISE',\n",
    "      'BAC',\n",
    "      'BDF',\n",
    "      'FICOHSA',\n",
    "      'AVANZ',\n",
    "      'ATLANTIDA',\n",
    "      'SISTEMA']\n",
    "\n",
    "y1 = [80365, \n",
    "              121954, \n",
    "              107938, \n",
    "              367739, \n",
    "              551534, \n",
    "              160174, \n",
    "               39929, \n",
    "              113044]\n",
    "\n",
    "\n",
    "\n",
    "fig.add_trace(go.Bar(orientation='h',\n",
    "    x = y1,\n",
    "  ##'#28B463', '#F4D03F', '#E74C3C'\n",
    "y = x1,\n",
    "           text=y1,\n",
    "           textposition='auto',\n",
    "           texttemplate = \"%{text}\",\n",
    "           marker_color=colors_bancos,\n",
    "           name=\"Garantizados\")\n",
    ")\n",
    "\n",
    "\n",
    "fig.update_xaxes(showticklabels=False)\n",
    "#fig['layout']['yaxis2'].update(title='', range=[-20, 22], autorange=False)\n",
    "#fig['layout']['yaxis2']['showgrid'] = False\n",
    "\n",
    "\n",
    "fig.update_layout(barmode='stack', legend_orientation=\"h\",   xaxis_type='linear',\n",
    "                   title='<b></b><b>Promedio de Depósitos Excluidos</b><br><i>Dólares</i><br><i>30 de Junio 2020</i>',\n",
    "                  #\"\",\n",
    "                  paper_bgcolor='rgb(255, 255, 255)',\n",
    "                  plot_bgcolor='rgb(255, 255, 255)',\n",
    "                  font=dict(\n",
    "        family=\"Courier New, monospace\",\n",
    "        size=14,\n",
    "        color=\"#000000\"\n",
    "        ),\n",
    "       annotations=[\n",
    "        dict(\n",
    "            x= 1.0, #0.9,\n",
    "            y= -0.15, #-0.15,\n",
    "            showarrow=False,\n",
    "            text=\"Fuente: FOGADE\",\n",
    "            xref=\"paper\",\n",
    "            yref=\"paper\")],\n",
    "\n",
    "            autosize=False,\n",
    "            width=1200,\n",
    "            height=600          \n",
    "    )\n",
    "\n",
    "fig.update_traces( textfont_size=17) #textposition='inside',\n",
    "\n",
    "\n",
    "#plot(fig, auto_open=True)\n",
    "import plotly.offline\n",
    "import plotly.graph_objs as go\n",
    "\n",
    "plotly.offline.plot(fig, \n",
    "                    image_width='1200',\n",
    "                   image_height='600',\n",
    "                     image='svg', image_filename='test')  "
   ]
  },
  {
   "cell_type": "code",
   "execution_count": null,
   "metadata": {
    "colab": {
     "base_uri": "https://localhost:8080/",
     "height": 637
    },
    "colab_type": "code",
    "id": "oY9wzqBOatkO",
    "outputId": "e14e619f-eb7d-44cb-967f-fb94c702e7d9"
   },
   "outputs": [],
   "source": [
    "fig.show()"
   ]
  }
 ],
 "metadata": {
  "colab": {
   "collapsed_sections": [],
   "name": "Plotly svg.ipynb",
   "provenance": [],
   "toc_visible": true
  },
  "kernelspec": {
   "display_name": "Python 3",
   "language": "python",
   "name": "python3"
  },
  "language_info": {
   "codemirror_mode": {
    "name": "ipython",
    "version": 3
   },
   "file_extension": ".py",
   "mimetype": "text/x-python",
   "name": "python",
   "nbconvert_exporter": "python",
   "pygments_lexer": "ipython3",
   "version": "3.8.5"
  }
 },
 "nbformat": 4,
 "nbformat_minor": 4
}
